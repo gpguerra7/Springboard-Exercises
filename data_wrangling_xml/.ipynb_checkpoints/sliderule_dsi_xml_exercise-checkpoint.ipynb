{
 "cells": [
  {
   "cell_type": "markdown",
   "metadata": {},
   "source": [
    "# XML example and exercise\n",
    "****\n",
    "+ study examples of accessing nodes in XML tree structure  \n",
    "+ work on exercise to be completed and submitted\n",
    "****\n",
    "+ reference: https://docs.python.org/2.7/library/xml.etree.elementtree.html\n",
    "+ data source: http://www.dbis.informatik.uni-goettingen.de/Mondial\n",
    "****"
   ]
  },
  {
   "cell_type": "code",
   "execution_count": 1,
   "metadata": {
    "collapsed": true
   },
   "outputs": [],
   "source": [
    "from xml.etree import ElementTree as ET"
   ]
  },
  {
   "cell_type": "markdown",
   "metadata": {},
   "source": [
    "## XML example\n",
    "\n",
    "+ for details about tree traversal and iterators, see https://docs.python.org/2.7/library/xml.etree.elementtree.html"
   ]
  },
  {
   "cell_type": "code",
   "execution_count": 2,
   "metadata": {
    "collapsed": true
   },
   "outputs": [],
   "source": [
    "document_tree = ET.parse( './data/mondial_database_less.xml' )"
   ]
  },
  {
   "cell_type": "code",
   "execution_count": 3,
   "metadata": {},
   "outputs": [
    {
     "name": "stdout",
     "output_type": "stream",
     "text": [
      "Albania\n",
      "Greece\n",
      "Macedonia\n",
      "Serbia\n",
      "Montenegro\n",
      "Kosovo\n",
      "Andorra\n"
     ]
    }
   ],
   "source": [
    "# print names of all countries\n",
    "for child in document_tree.getroot():\n",
    "    print (child.find('name').text)"
   ]
  },
  {
   "cell_type": "code",
   "execution_count": 4,
   "metadata": {},
   "outputs": [
    {
     "name": "stdout",
     "output_type": "stream",
     "text": [
      "* Albania:\n",
      "Tirana, Shkodër, Durrës, Vlorë, Elbasan, Korçë\n",
      "* Greece:\n",
      "Komotini, Kavala, Athina, Peiraias, Peristeri, Acharnes, Patra, Kozani, Kerkyra, Ioannina, Thessaloniki, Iraklio, Chania, Ermoupoli, Rhodes, Tripoli, Lamia, Chalkida, Larissa, Volos, Mytilini, Karyes\n",
      "* Macedonia:\n",
      "Skopje, Kumanovo\n",
      "* Serbia:\n",
      "Beograd, Novi Sad, Niš\n",
      "* Montenegro:\n",
      "Podgorica\n",
      "* Kosovo:\n",
      "Prishtine\n",
      "* Andorra:\n",
      "Andorra la Vella\n"
     ]
    }
   ],
   "source": [
    "# print names of all countries and their cities\n",
    "for element in document_tree.iterfind('country'):\n",
    "    print ('* ' + element.find('name').text + ':'),\n",
    "    capitals_string = ''\n",
    "    for subelement in element.getiterator('city'):\n",
    "        capitals_string += subelement.find('name').text + ', '\n",
    "    print (capitals_string[:-2])"
   ]
  },
  {
   "cell_type": "markdown",
   "metadata": {},
   "source": [
    "****\n",
    "## XML exercise\n",
    "\n",
    "Using data in 'data/mondial_database.xml', the examples above, and refering to https://docs.python.org/2.7/library/xml.etree.elementtree.html, find\n",
    "\n",
    "1. 10 countries with the lowest infant mortality rates\n",
    "2. 10 cities with the largest population\n",
    "3. 10 ethnic groups with the largest overall populations (sum of best/latest estimates over all countries)\n",
    "4. name and country of a) longest river, b) largest lake and c) airport at highest elevation"
   ]
  },
  {
   "cell_type": "code",
   "execution_count": 5,
   "metadata": {
    "collapsed": true
   },
   "outputs": [],
   "source": [
    "document = ET.parse( './data/mondial_database.xml' )\n",
    "import numpy as np\n",
    "import pandas as pd"
   ]
  },
  {
   "cell_type": "markdown",
   "metadata": {
    "collapsed": true
   },
   "source": [
    "# Answer 1"
   ]
  },
  {
   "cell_type": "code",
   "execution_count": 6,
   "metadata": {},
   "outputs": [
    {
     "name": "stdout",
     "output_type": "stream",
     "text": [
      "\n",
      " 10 countries with the lowest infant mortality rates\n"
     ]
    },
    {
     "data": {
      "text/html": [
       "<div>\n",
       "<style>\n",
       "    .dataframe thead tr:only-child th {\n",
       "        text-align: right;\n",
       "    }\n",
       "\n",
       "    .dataframe thead th {\n",
       "        text-align: left;\n",
       "    }\n",
       "\n",
       "    .dataframe tbody tr th {\n",
       "        vertical-align: top;\n",
       "    }\n",
       "</style>\n",
       "<table border=\"1\" class=\"dataframe\">\n",
       "  <thead>\n",
       "    <tr style=\"text-align: right;\">\n",
       "      <th></th>\n",
       "      <th>country</th>\n",
       "      <th>infant_mortality_rate</th>\n",
       "    </tr>\n",
       "  </thead>\n",
       "  <tbody>\n",
       "    <tr>\n",
       "      <th>36</th>\n",
       "      <td>Monaco</td>\n",
       "      <td>1.81</td>\n",
       "    </tr>\n",
       "    <tr>\n",
       "      <th>90</th>\n",
       "      <td>Japan</td>\n",
       "      <td>2.13</td>\n",
       "    </tr>\n",
       "    <tr>\n",
       "      <th>109</th>\n",
       "      <td>Bermuda</td>\n",
       "      <td>2.48</td>\n",
       "    </tr>\n",
       "    <tr>\n",
       "      <th>34</th>\n",
       "      <td>Norway</td>\n",
       "      <td>2.48</td>\n",
       "    </tr>\n",
       "    <tr>\n",
       "      <th>98</th>\n",
       "      <td>Singapore</td>\n",
       "      <td>2.53</td>\n",
       "    </tr>\n",
       "    <tr>\n",
       "      <th>35</th>\n",
       "      <td>Sweden</td>\n",
       "      <td>2.60</td>\n",
       "    </tr>\n",
       "    <tr>\n",
       "      <th>8</th>\n",
       "      <td>Czech Republic</td>\n",
       "      <td>2.63</td>\n",
       "    </tr>\n",
       "    <tr>\n",
       "      <th>72</th>\n",
       "      <td>Hong Kong</td>\n",
       "      <td>2.73</td>\n",
       "    </tr>\n",
       "    <tr>\n",
       "      <th>73</th>\n",
       "      <td>Macao</td>\n",
       "      <td>3.13</td>\n",
       "    </tr>\n",
       "    <tr>\n",
       "      <th>39</th>\n",
       "      <td>Iceland</td>\n",
       "      <td>3.15</td>\n",
       "    </tr>\n",
       "  </tbody>\n",
       "</table>\n",
       "</div>"
      ],
      "text/plain": [
       "            country  infant_mortality_rate\n",
       "36           Monaco                   1.81\n",
       "90            Japan                   2.13\n",
       "109         Bermuda                   2.48\n",
       "34           Norway                   2.48\n",
       "98        Singapore                   2.53\n",
       "35           Sweden                   2.60\n",
       "8    Czech Republic                   2.63\n",
       "72        Hong Kong                   2.73\n",
       "73            Macao                   3.13\n",
       "39          Iceland                   3.15"
      ]
     },
     "execution_count": 6,
     "metadata": {},
     "output_type": "execute_result"
    }
   ],
   "source": [
    "print('\\n 10 countries with the lowest infant mortality rates')\n",
    "\n",
    "#creates dictionary of countries with infant mortality rates\n",
    "dict_imr = {}\n",
    "for country in document.iterfind('country'):\n",
    "    try:\n",
    "        dict_imr[country.find('name').text] = float(country.find('infant_mortality').text)\n",
    "    except: \n",
    "        pass\n",
    "\n",
    "#created data frame of countries with infant mortality rate\n",
    "infant_mortality_df = pd.DataFrame.from_dict(dict_imr,orient='index')\n",
    "infant_mortality_df.reset_index(drop=False, inplace=True)\n",
    "infant_mortality_df.columns=['country', 'infant_mortality_rate']\n",
    "\n",
    "#sorts and displays the 10 countries with the lowest infant mortality rates\n",
    "infant_mortality_df = infant_mortality_df.sort_values(by='infant_mortality_rate')\n",
    "infant_mortality_df.head(10)\n"
   ]
  },
  {
   "cell_type": "markdown",
   "metadata": {},
   "source": [
    "\n",
    "# Answer 2"
   ]
  },
  {
   "cell_type": "code",
   "execution_count": 7,
   "metadata": {},
   "outputs": [
    {
     "name": "stdout",
     "output_type": "stream",
     "text": [
      "\n",
      " 10 cities with the largest population\n"
     ]
    },
    {
     "data": {
      "text/html": [
       "<div>\n",
       "<style>\n",
       "    .dataframe thead tr:only-child th {\n",
       "        text-align: right;\n",
       "    }\n",
       "\n",
       "    .dataframe thead th {\n",
       "        text-align: left;\n",
       "    }\n",
       "\n",
       "    .dataframe tbody tr th {\n",
       "        vertical-align: top;\n",
       "    }\n",
       "</style>\n",
       "<table border=\"1\" class=\"dataframe\">\n",
       "  <thead>\n",
       "    <tr style=\"text-align: right;\">\n",
       "      <th></th>\n",
       "      <th>city</th>\n",
       "      <th>population</th>\n",
       "      <th>year</th>\n",
       "    </tr>\n",
       "  </thead>\n",
       "  <tbody>\n",
       "    <tr>\n",
       "      <th>433</th>\n",
       "      <td>Seoul</td>\n",
       "      <td>9708483.0</td>\n",
       "      <td>2010</td>\n",
       "    </tr>\n",
       "    <tr>\n",
       "      <th>412</th>\n",
       "      <td>Al Qahirah</td>\n",
       "      <td>8471859.0</td>\n",
       "      <td>2006</td>\n",
       "    </tr>\n",
       "    <tr>\n",
       "      <th>204</th>\n",
       "      <td>Bangkok</td>\n",
       "      <td>7506700.0</td>\n",
       "      <td>1999</td>\n",
       "    </tr>\n",
       "    <tr>\n",
       "      <th>322</th>\n",
       "      <td>Hong Kong</td>\n",
       "      <td>7055071.0</td>\n",
       "      <td>2009</td>\n",
       "    </tr>\n",
       "    <tr>\n",
       "      <th>229</th>\n",
       "      <td>Ho Chi Minh</td>\n",
       "      <td>5968384.0</td>\n",
       "      <td>2009</td>\n",
       "    </tr>\n",
       "    <tr>\n",
       "      <th>554</th>\n",
       "      <td>Singapore</td>\n",
       "      <td>5076700.0</td>\n",
       "      <td>2010</td>\n",
       "    </tr>\n",
       "    <tr>\n",
       "      <th>409</th>\n",
       "      <td>Al Iskandariyah</td>\n",
       "      <td>4123869.0</td>\n",
       "      <td>2006</td>\n",
       "    </tr>\n",
       "    <tr>\n",
       "      <th>566</th>\n",
       "      <td>New Taipei</td>\n",
       "      <td>3939305.0</td>\n",
       "      <td>2012</td>\n",
       "    </tr>\n",
       "    <tr>\n",
       "      <th>437</th>\n",
       "      <td>Busan</td>\n",
       "      <td>3403135.0</td>\n",
       "      <td>2010</td>\n",
       "    </tr>\n",
       "    <tr>\n",
       "      <th>270</th>\n",
       "      <td>Pyongyang</td>\n",
       "      <td>3255288.0</td>\n",
       "      <td>2008</td>\n",
       "    </tr>\n",
       "  </tbody>\n",
       "</table>\n",
       "</div>"
      ],
      "text/plain": [
       "                city  population  year\n",
       "433            Seoul   9708483.0  2010\n",
       "412       Al Qahirah   8471859.0  2006\n",
       "204          Bangkok   7506700.0  1999\n",
       "322        Hong Kong   7055071.0  2009\n",
       "229      Ho Chi Minh   5968384.0  2009\n",
       "554        Singapore   5076700.0  2010\n",
       "409  Al Iskandariyah   4123869.0  2006\n",
       "566       New Taipei   3939305.0  2012\n",
       "437            Busan   3403135.0  2010\n",
       "270        Pyongyang   3255288.0  2008"
      ]
     },
     "execution_count": 7,
     "metadata": {},
     "output_type": "execute_result"
    }
   ],
   "source": [
    "print('\\n 10 cities with the largest population')\n",
    "\n",
    "#creates list of cities, population figures, and years\n",
    "cities = []\n",
    "years = []\n",
    "population = []\n",
    "for country in document.iterfind('country'):\n",
    "    for city in country.iterfind('city') : \n",
    "        for pop in city.iterfind('population'): \n",
    "            year = 0\n",
    "            if int(pop.get('year')) > year: \n",
    "                year = int(pop.get('year')) \n",
    "                data = float(pop.text) \n",
    "            if year != 0: \n",
    "                cities.append(city.find('name').text) \n",
    "                years.append(year) \n",
    "                population.append(data)\n",
    "                \n",
    "#creates dataframe of cities, population figures, and years\n",
    "columns = ['city', 'population', 'year']\n",
    "cities_pop_df = pd.DataFrame(columns=columns)\n",
    "cities_pop_df['city'] = cities\n",
    "cities_pop_df['population'] = population\n",
    "cities_pop_df['year'] = years\n",
    "\n",
    "#keeps latest year\n",
    "cities_pop_df = cities_pop_df.drop_duplicates(keep='last', subset='city' )\n",
    "\n",
    "#sort values based on population\n",
    "cities_pop_df = cities_pop_df.sort_values(by='population', ascending=False)\n",
    "cities_pop_df.head(10)                      "
   ]
  },
  {
   "cell_type": "markdown",
   "metadata": {
    "collapsed": true
   },
   "source": [
    "# Answer 3 part 1"
   ]
  },
  {
   "cell_type": "code",
   "execution_count": 8,
   "metadata": {
    "collapsed": true
   },
   "outputs": [],
   "source": [
    "#Creates a data frame of the latest population figures witht the following lines of code:\n",
    "\n",
    "#creates dictionary of countries and a list of all population figures\n",
    "latest_pop_dict = {}\n",
    "pop_index = 0\n",
    "population_data = []\n",
    "for country in document.iterfind('country'):\n",
    "        for pop in country.iterfind('population'):\n",
    "            latest_pop_dict[pop_index] = country.find('name').text\n",
    "            pop_index += 1\n",
    "            population_data.append(pop.text)\n",
    "            \n",
    "#creates data frame of countries and inserts a columns of all population figures\n",
    "latest_pop_df = pd.DataFrame.from_dict(latest_pop_dict, orient='index')\n",
    "latest_pop_df['figures'] = population_data\n",
    "\n",
    "#Renames columns\n",
    "latest_pop_df.columns = ['country', 'most_recent_pop']\n",
    "\n",
    "#Drops all population values except the latest one\n",
    "latest_pop_df = latest_pop_df.drop_duplicates(keep='last', subset='country' )"
   ]
  },
  {
   "cell_type": "markdown",
   "metadata": {},
   "source": [
    "# Answer 3 part 2"
   ]
  },
  {
   "cell_type": "code",
   "execution_count": 9,
   "metadata": {},
   "outputs": [
    {
     "name": "stdout",
     "output_type": "stream",
     "text": [
      "\n",
      " The 10 ethnic groups with the largest overall populations\n"
     ]
    },
    {
     "data": {
      "text/html": [
       "<div>\n",
       "<style>\n",
       "    .dataframe thead tr:only-child th {\n",
       "        text-align: right;\n",
       "    }\n",
       "\n",
       "    .dataframe thead th {\n",
       "        text-align: left;\n",
       "    }\n",
       "\n",
       "    .dataframe tbody tr th {\n",
       "        vertical-align: top;\n",
       "    }\n",
       "</style>\n",
       "<table border=\"1\" class=\"dataframe\">\n",
       "  <thead>\n",
       "    <tr style=\"text-align: right;\">\n",
       "      <th></th>\n",
       "      <th>ethnic_pop</th>\n",
       "    </tr>\n",
       "    <tr>\n",
       "      <th>ethnic_group</th>\n",
       "      <th></th>\n",
       "    </tr>\n",
       "  </thead>\n",
       "  <tbody>\n",
       "    <tr>\n",
       "      <th>Han Chinese</th>\n",
       "      <td>1.245059e+09</td>\n",
       "    </tr>\n",
       "    <tr>\n",
       "      <th>Indo-Aryan</th>\n",
       "      <td>8.718156e+08</td>\n",
       "    </tr>\n",
       "    <tr>\n",
       "      <th>European</th>\n",
       "      <td>4.948722e+08</td>\n",
       "    </tr>\n",
       "    <tr>\n",
       "      <th>African</th>\n",
       "      <td>3.183251e+08</td>\n",
       "    </tr>\n",
       "    <tr>\n",
       "      <th>Dravidian</th>\n",
       "      <td>3.027137e+08</td>\n",
       "    </tr>\n",
       "    <tr>\n",
       "      <th>Mestizo</th>\n",
       "      <td>1.577344e+08</td>\n",
       "    </tr>\n",
       "    <tr>\n",
       "      <th>Bengali</th>\n",
       "      <td>1.467769e+08</td>\n",
       "    </tr>\n",
       "    <tr>\n",
       "      <th>Russian</th>\n",
       "      <td>1.318570e+08</td>\n",
       "    </tr>\n",
       "    <tr>\n",
       "      <th>Japanese</th>\n",
       "      <td>1.265342e+08</td>\n",
       "    </tr>\n",
       "    <tr>\n",
       "      <th>Malay</th>\n",
       "      <td>1.219936e+08</td>\n",
       "    </tr>\n",
       "  </tbody>\n",
       "</table>\n",
       "</div>"
      ],
      "text/plain": [
       "                ethnic_pop\n",
       "ethnic_group              \n",
       "Han Chinese   1.245059e+09\n",
       "Indo-Aryan    8.718156e+08\n",
       "European      4.948722e+08\n",
       "African       3.183251e+08\n",
       "Dravidian     3.027137e+08\n",
       "Mestizo       1.577344e+08\n",
       "Bengali       1.467769e+08\n",
       "Russian       1.318570e+08\n",
       "Japanese      1.265342e+08\n",
       "Malay         1.219936e+08"
      ]
     },
     "execution_count": 9,
     "metadata": {},
     "output_type": "execute_result"
    }
   ],
   "source": [
    "print('\\n The 10 ethnic groups with the largest overall populations')\n",
    "\n",
    "#creates a dictionary of ethnic groups and lists of countries, and ethnic group percentages\n",
    "ethnic_dict={}\n",
    "ethnic_index=0\n",
    "countries=[]\n",
    "ethnic_percent=[]\n",
    "for country in document.iterfind('country'):\n",
    "    for ethnicity in country.iterfind('ethnicgroup'): \n",
    "        ethnic_dict[ethnic_index]=(ethnicity.text)\n",
    "        ethnic_index+=1\n",
    "        countries.append(country.find('name').text)\n",
    "        ethnic_percent.append(ethnicity.attrib['percentage'])    \n",
    "        \n",
    "#creates dataframe from list of ethnicities and inserts countries and ethnic group percentages as columns        \n",
    "ethnic_df = pd.DataFrame.from_dict(ethnic_dict, orient='index')        \n",
    "ethnic_df.columns=['ethnic_group']\n",
    "ethnic_df['country'], ethnic_df['pop_percent'] = countries, ethnic_percent\n",
    "\n",
    "#merge latest population figures data frame with ethnic_df\n",
    "ethnic_df = ethnic_df.merge(latest_pop_df, how='left', on='country')\n",
    "\n",
    "#creates ethnic population columns\n",
    "ethnic_df['ethnic_pop'] = (ethnic_df['pop_percent'].astype(float)/100) * ethnic_df['most_recent_pop'].astype(float)\n",
    "\n",
    "#groups and sums ethnic group populations\n",
    "ethnic_df = ethnic_df.groupby('ethnic_group').sum() \n",
    "\n",
    "#sorts and displays the 10 ethnic groups with the largest overall populations\n",
    "ethnic_df = ethnic_df.sort_values(by='ethnic_pop', ascending=False)\n",
    "ethnic_df.head(10)"
   ]
  },
  {
   "cell_type": "markdown",
   "metadata": {},
   "source": [
    "# Answer 4 part a."
   ]
  },
  {
   "cell_type": "code",
   "execution_count": 10,
   "metadata": {
    "collapsed": true
   },
   "outputs": [],
   "source": [
    "# creates data frame country_codes_df of countries and country codes\n",
    "\n",
    "country_codes =[]\n",
    "country_data=[]\n",
    "for country in document.iterfind('country'):\n",
    "    country_data = country.find('name').text, country.attrib['car_code']\n",
    "    country_codes.append(country_data)\n",
    "country_codes\n",
    "\n",
    "columns = ['country', 'country_code']\n",
    "country_codes_df = pd.DataFrame(columns=columns)\n",
    "country_codes_df = country_codes_df.append(pd.DataFrame(country_codes, columns=columns))"
   ]
  },
  {
   "cell_type": "code",
   "execution_count": 11,
   "metadata": {},
   "outputs": [
    {
     "name": "stdout",
     "output_type": "stream",
     "text": [
      "\n",
      " Country with the longest river\n"
     ]
    },
    {
     "data": {
      "text/html": [
       "<div>\n",
       "<style>\n",
       "    .dataframe thead tr:only-child th {\n",
       "        text-align: right;\n",
       "    }\n",
       "\n",
       "    .dataframe thead th {\n",
       "        text-align: left;\n",
       "    }\n",
       "\n",
       "    .dataframe tbody tr th {\n",
       "        vertical-align: top;\n",
       "    }\n",
       "</style>\n",
       "<table border=\"1\" class=\"dataframe\">\n",
       "  <thead>\n",
       "    <tr style=\"text-align: right;\">\n",
       "      <th></th>\n",
       "      <th>name</th>\n",
       "      <th>country_code</th>\n",
       "      <th>length</th>\n",
       "      <th>country</th>\n",
       "    </tr>\n",
       "  </thead>\n",
       "  <tbody>\n",
       "    <tr>\n",
       "      <th>295</th>\n",
       "      <td>Amazonas</td>\n",
       "      <td>BR</td>\n",
       "      <td>6448</td>\n",
       "      <td>Brazil</td>\n",
       "    </tr>\n",
       "    <tr>\n",
       "      <th>294</th>\n",
       "      <td>Amazonas</td>\n",
       "      <td>CO</td>\n",
       "      <td>6448</td>\n",
       "      <td>Colombia</td>\n",
       "    </tr>\n",
       "    <tr>\n",
       "      <th>296</th>\n",
       "      <td>Amazonas</td>\n",
       "      <td>PE</td>\n",
       "      <td>6448</td>\n",
       "      <td>Peru</td>\n",
       "    </tr>\n",
       "  </tbody>\n",
       "</table>\n",
       "</div>"
      ],
      "text/plain": [
       "         name country_code length   country\n",
       "295  Amazonas           BR   6448    Brazil\n",
       "294  Amazonas           CO   6448  Colombia\n",
       "296  Amazonas           PE   6448      Peru"
      ]
     },
     "execution_count": 11,
     "metadata": {},
     "output_type": "execute_result"
    }
   ],
   "source": [
    "print('\\n Country with the longest river')\n",
    "\n",
    "#creates list of rivers, country codes, and river lengths\n",
    "data_instances=[]\n",
    "river_info=[]\n",
    "      \n",
    "for river in document.iterfind('river'):   \n",
    "    try:\n",
    "        data_instance = [river.find('name').text, river.attrib['country'], int(river.find('length').text)]\n",
    "        river_info.append(data_instance)\n",
    "    except: \n",
    "        pass\n",
    "\n",
    "#creates data frame of rivers, country codes, and river lengths\n",
    "columns = ['name', 'country_code', 'length']\n",
    "river_df = pd.DataFrame(columns=columns) \n",
    "river_df = river_df.append(pd.DataFrame(river_info, columns=columns))\n",
    "\n",
    "#creates a new data frame new_river_df where each river has one country code per row\n",
    "river_list = []\n",
    "for row in river_df.itertuples(): \n",
    "    if len(row[2].split(' ')) == 1:\n",
    "        entry = [row[1], row[2], row[3]]\n",
    "        river_list.append(entry)\n",
    "    else:\n",
    "        for code in row[2].split(' '):\n",
    "            entry = [row[1], code, row[3]]\n",
    "            river_list.append(entry)\n",
    "columns = ['name', 'country_code', 'length']\n",
    "new_river_df = pd.DataFrame(columns=columns)\n",
    "new_river_df = new_river_df.append(pd.DataFrame(river_list, columns=columns))\n",
    "\n",
    "#creates column with country name by merging with country_codes_df\n",
    "new_river_df = new_river_df.merge(country_codes_df, how='left', on='country_code')\n",
    "new_river_df = new_river_df.sort_values(by=['length', 'country'], ascending=[False, True])\n",
    "new_river_df.head(3)"
   ]
  },
  {
   "cell_type": "markdown",
   "metadata": {},
   "source": [
    "# Answer 4 part b."
   ]
  },
  {
   "cell_type": "code",
   "execution_count": 12,
   "metadata": {},
   "outputs": [
    {
     "name": "stdout",
     "output_type": "stream",
     "text": [
      "\n",
      " Country with the largest lake\n"
     ]
    },
    {
     "data": {
      "text/html": [
       "<div>\n",
       "<style>\n",
       "    .dataframe thead tr:only-child th {\n",
       "        text-align: right;\n",
       "    }\n",
       "\n",
       "    .dataframe thead th {\n",
       "        text-align: left;\n",
       "    }\n",
       "\n",
       "    .dataframe tbody tr th {\n",
       "        vertical-align: top;\n",
       "    }\n",
       "</style>\n",
       "<table border=\"1\" class=\"dataframe\">\n",
       "  <thead>\n",
       "    <tr style=\"text-align: right;\">\n",
       "      <th></th>\n",
       "      <th>name</th>\n",
       "      <th>country_code</th>\n",
       "      <th>area</th>\n",
       "      <th>country</th>\n",
       "    </tr>\n",
       "  </thead>\n",
       "  <tbody>\n",
       "    <tr>\n",
       "      <th>57</th>\n",
       "      <td>Caspian Sea</td>\n",
       "      <td>AZ</td>\n",
       "      <td>386400</td>\n",
       "      <td>Azerbaijan</td>\n",
       "    </tr>\n",
       "    <tr>\n",
       "      <th>59</th>\n",
       "      <td>Caspian Sea</td>\n",
       "      <td>IR</td>\n",
       "      <td>386400</td>\n",
       "      <td>Iran</td>\n",
       "    </tr>\n",
       "    <tr>\n",
       "      <th>58</th>\n",
       "      <td>Caspian Sea</td>\n",
       "      <td>KAZ</td>\n",
       "      <td>386400</td>\n",
       "      <td>Kazakhstan</td>\n",
       "    </tr>\n",
       "    <tr>\n",
       "      <th>56</th>\n",
       "      <td>Caspian Sea</td>\n",
       "      <td>R</td>\n",
       "      <td>386400</td>\n",
       "      <td>Russia</td>\n",
       "    </tr>\n",
       "    <tr>\n",
       "      <th>60</th>\n",
       "      <td>Caspian Sea</td>\n",
       "      <td>TM</td>\n",
       "      <td>386400</td>\n",
       "      <td>Turkmenistan</td>\n",
       "    </tr>\n",
       "  </tbody>\n",
       "</table>\n",
       "</div>"
      ],
      "text/plain": [
       "           name country_code    area       country\n",
       "57  Caspian Sea           AZ  386400    Azerbaijan\n",
       "59  Caspian Sea           IR  386400          Iran\n",
       "58  Caspian Sea          KAZ  386400    Kazakhstan\n",
       "56  Caspian Sea            R  386400        Russia\n",
       "60  Caspian Sea           TM  386400  Turkmenistan"
      ]
     },
     "execution_count": 12,
     "metadata": {},
     "output_type": "execute_result"
    }
   ],
   "source": [
    "print('\\n Country with the largest lake')\n",
    "\n",
    "#creates list of lakes, country codes, and lake areas\n",
    "\n",
    "lake_info =[]\n",
    "data_instance =[]\n",
    "for lake in document.iterfind('lake'):   \n",
    "    try:\n",
    "        data_instance = [lake.find('name').text, lake.attrib['country'], int(lake.find('area').text)]\n",
    "        lake_info.append(data_instance)\n",
    "    except: \n",
    "        pass\n",
    "\n",
    "#creates data frame of lakes, country codes, and lake areas\n",
    "columns = ['name', 'country_code', 'area']\n",
    "lake_df = pd.DataFrame(columns=columns)\n",
    "lake_df =lake_df.append(pd.DataFrame(lake_info, columns=columns))\n",
    "\n",
    "#creates a new data frame new_lake_df where each lake has one country code per row\n",
    "lake_list = []\n",
    "for row in lake_df.itertuples(): \n",
    "    if len(row[2].split(' ')) == 1:\n",
    "        entry = [row[1], row[2], row[3]]\n",
    "        lake_list.append(entry)\n",
    "    else:\n",
    "        for code in row[2].split(' '):\n",
    "            entry = [row[1], code, row[3]]\n",
    "            lake_list.append(entry)\n",
    "columns = ['name', 'country_code', 'area']\n",
    "new_lake_df = pd.DataFrame(columns=columns)\n",
    "new_lake_df = new_lake_df.append(pd.DataFrame(lake_list, columns=columns))\n",
    "\n",
    "#creates column with country name by merging with country_codes_df\n",
    "new_lake_df = new_lake_df.merge(country_codes_df, how='left', on='country_code')\n",
    "new_lake_df = new_lake_df.sort_values(by=['area', 'country'], ascending=[False, True])\n",
    "new_lake_df.head(5)\n"
   ]
  },
  {
   "cell_type": "markdown",
   "metadata": {},
   "source": [
    "# Answer 4 part c."
   ]
  },
  {
   "cell_type": "code",
   "execution_count": 13,
   "metadata": {},
   "outputs": [
    {
     "name": "stdout",
     "output_type": "stream",
     "text": [
      "\n",
      " Country with airport at highest elevation\n"
     ]
    },
    {
     "data": {
      "text/html": [
       "<div>\n",
       "<style>\n",
       "    .dataframe thead tr:only-child th {\n",
       "        text-align: right;\n",
       "    }\n",
       "\n",
       "    .dataframe thead th {\n",
       "        text-align: left;\n",
       "    }\n",
       "\n",
       "    .dataframe tbody tr th {\n",
       "        vertical-align: top;\n",
       "    }\n",
       "</style>\n",
       "<table border=\"1\" class=\"dataframe\">\n",
       "  <thead>\n",
       "    <tr style=\"text-align: right;\">\n",
       "      <th></th>\n",
       "      <th>name</th>\n",
       "      <th>country_code</th>\n",
       "      <th>elevation</th>\n",
       "      <th>country</th>\n",
       "    </tr>\n",
       "  </thead>\n",
       "  <tbody>\n",
       "    <tr>\n",
       "      <th>80</th>\n",
       "      <td>El Alto Intl</td>\n",
       "      <td>BOL</td>\n",
       "      <td>4063</td>\n",
       "      <td>Bolivia</td>\n",
       "    </tr>\n",
       "  </tbody>\n",
       "</table>\n",
       "</div>"
      ],
      "text/plain": [
       "            name country_code elevation  country\n",
       "80  El Alto Intl          BOL      4063  Bolivia"
      ]
     },
     "execution_count": 13,
     "metadata": {},
     "output_type": "execute_result"
    }
   ],
   "source": [
    "print('\\n Country with airport at highest elevation')\n",
    "\n",
    "#creates list of airports, country code, and lake area\n",
    "\n",
    "airport_info =[]\n",
    "data_instance =[]\n",
    "for airport in document.iterfind('airport'):   \n",
    "    try:\n",
    "        data_instance = [airport.find('name').text, airport.attrib['country'], int(airport.find('elevation').text)]\n",
    "        airport_info.append(data_instance)\n",
    "    except: \n",
    "        pass\n",
    "\n",
    "#creates data frame of airports, country codes, and airport elevations\n",
    "columns = ['name', 'country_code', 'elevation']\n",
    "airport_df = pd.DataFrame(columns=columns)\n",
    "airport_df =airport_df.append(pd.DataFrame(airport_info, columns=columns))\n",
    "\n",
    "#creates a new data frame new_airport_df where each airport has one country code per row\n",
    "airport_list = []\n",
    "for row in airport_df.itertuples(): \n",
    "    if len(row[2].split(' ')) == 1:\n",
    "        entry = [row[1], row[2], row[3]]\n",
    "        airport_list.append(entry)\n",
    "    else:\n",
    "        for code in row[2].split(' '):\n",
    "            entry = [row[1], code, row[3]]\n",
    "            airport_list.append(entry)\n",
    "columns = ['name', 'country_code', 'elevation']\n",
    "new_airport_df = pd.DataFrame(columns=columns)\n",
    "new_airport_df = new_airport_df.append(pd.DataFrame(airport_list, columns=columns))\n",
    "\n",
    "#creates column with country name by merging with country_codes_df\n",
    "new_airport_df = new_airport_df.merge(country_codes_df, how='left', on='country_code')\n",
    "new_airport_df = new_airport_df.sort_values(by=['elevation', 'country'], ascending=[False, True])\n",
    "new_airport_df.head(1)\n"
   ]
  }
 ],
 "metadata": {
  "kernelspec": {
   "display_name": "Python 3",
   "language": "python",
   "name": "python3"
  },
  "language_info": {
   "codemirror_mode": {
    "name": "ipython",
    "version": 3
   },
   "file_extension": ".py",
   "mimetype": "text/x-python",
   "name": "python",
   "nbconvert_exporter": "python",
   "pygments_lexer": "ipython3",
   "version": "3.6.1"
  }
 },
 "nbformat": 4,
 "nbformat_minor": 1
}
