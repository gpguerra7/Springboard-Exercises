{
 "cells": [
  {
   "cell_type": "code",
   "execution_count": 1,
   "metadata": {
    "collapsed": true
   },
   "outputs": [],
   "source": [
    "import pandas as pd\n",
    "import numpy as np\n",
    "import json\n",
    "import datetime"
   ]
  },
  {
   "cell_type": "markdown",
   "metadata": {},
   "source": [
    "### Parse Data"
   ]
  },
  {
   "cell_type": "code",
   "execution_count": 2,
   "metadata": {},
   "outputs": [
    {
     "data": {
      "text/plain": [
       "[{'ASIN': '0771044445', 'Id': 0},\n",
       " {'ASIN': '0827229534',\n",
       "  'Id': 1,\n",
       "  'categories': 2,\n",
       "  'category_lst': ['|Books[283155]|Subjects[1000]|Religion & Spirituality[22]|Christianity[12290]|Clergy[12360]|Preaching[12368]',\n",
       "   '|Books[283155]|Subjects[1000]|Religion & Spirituality[22]|Christianity[12290]|Clergy[12360]|Sermons[12370]'],\n",
       "  'group': 'Book',\n",
       "  'review_lst': [{'customer': 'A2JW67OY8U6HHK',\n",
       "    'date': datetime.datetime(2000, 7, 28, 0, 0),\n",
       "    'helpful': 9,\n",
       "    'rating': 5,\n",
       "    'votes': 10},\n",
       "   {'customer': 'A2VE83MZF98ITY',\n",
       "    'date': datetime.datetime(2003, 12, 14, 0, 0),\n",
       "    'helpful': 5,\n",
       "    'rating': 5,\n",
       "    'votes': 6}],\n",
       "  'reviews:': {'avg rating': 5.0, 'downloaded': 2, 'total': 2},\n",
       "  'salesrank': 396585,\n",
       "  'similar': '5',\n",
       "  'similar_lst': ['0804215715',\n",
       "   '156101074X',\n",
       "   '0687023955',\n",
       "   '0687074231',\n",
       "   '082721619X'],\n",
       "  'title': ' Patterns of Preaching: A Sermon Sampler'},\n",
       " {'ASIN': '0738700797',\n",
       "  'Id': 2,\n",
       "  'categories': 2,\n",
       "  'category_lst': ['|Books[283155]|Subjects[1000]|Religion & Spirituality[22]|Earth-Based Religions[12472]|Wicca[12484]',\n",
       "   '|Books[283155]|Subjects[1000]|Religion & Spirituality[22]|Earth-Based Religions[12472]|Witchcraft[12486]'],\n",
       "  'group': 'Book',\n",
       "  'review_lst': [{'customer': 'A11NCO6YTE4BTJ',\n",
       "    'date': datetime.datetime(2001, 12, 16, 0, 0),\n",
       "    'helpful': 4,\n",
       "    'rating': 5,\n",
       "    'votes': 5},\n",
       "   {'customer': 'A9CQ3PLRNIR83',\n",
       "    'date': datetime.datetime(2002, 1, 7, 0, 0),\n",
       "    'helpful': 5,\n",
       "    'rating': 4,\n",
       "    'votes': 5},\n",
       "   {'customer': 'A13SG9ACZ9O5IM',\n",
       "    'date': datetime.datetime(2002, 1, 24, 0, 0),\n",
       "    'helpful': 8,\n",
       "    'rating': 5,\n",
       "    'votes': 8},\n",
       "   {'customer': 'A1BDAI6VEYMAZA',\n",
       "    'date': datetime.datetime(2002, 1, 28, 0, 0),\n",
       "    'helpful': 4,\n",
       "    'rating': 5,\n",
       "    'votes': 4},\n",
       "   {'customer': 'A2P6KAWXJ16234',\n",
       "    'date': datetime.datetime(2002, 2, 6, 0, 0),\n",
       "    'helpful': 16,\n",
       "    'rating': 4,\n",
       "    'votes': 16},\n",
       "   {'customer': 'AMACWC3M7PQFR',\n",
       "    'date': datetime.datetime(2002, 2, 14, 0, 0),\n",
       "    'helpful': 5,\n",
       "    'rating': 4,\n",
       "    'votes': 5},\n",
       "   {'customer': 'A3GO7UV9XX14D8',\n",
       "    'date': datetime.datetime(2002, 3, 23, 0, 0),\n",
       "    'helpful': 6,\n",
       "    'rating': 4,\n",
       "    'votes': 6},\n",
       "   {'customer': 'A1GIL64QK68WKL',\n",
       "    'date': datetime.datetime(2002, 5, 23, 0, 0),\n",
       "    'helpful': 8,\n",
       "    'rating': 5,\n",
       "    'votes': 8},\n",
       "   {'customer': 'AEOBOF2ONQJWV',\n",
       "    'date': datetime.datetime(2003, 2, 25, 0, 0),\n",
       "    'helpful': 5,\n",
       "    'rating': 5,\n",
       "    'votes': 8},\n",
       "   {'customer': 'A3IGHTES8ME05L',\n",
       "    'date': datetime.datetime(2003, 11, 25, 0, 0),\n",
       "    'helpful': 5,\n",
       "    'rating': 5,\n",
       "    'votes': 5},\n",
       "   {'customer': 'A1CP26N8RHYVVO',\n",
       "    'date': datetime.datetime(2004, 2, 11, 0, 0),\n",
       "    'helpful': 9,\n",
       "    'rating': 1,\n",
       "    'votes': 13},\n",
       "   {'customer': 'ANEIANH0WAT9D',\n",
       "    'date': datetime.datetime(2005, 2, 7, 0, 0),\n",
       "    'helpful': 1,\n",
       "    'rating': 5,\n",
       "    'votes': 1}],\n",
       "  'reviews:': {'avg rating': 4.5, 'downloaded': 12, 'total': 12},\n",
       "  'salesrank': 168596,\n",
       "  'similar': '5',\n",
       "  'similar_lst': ['0738700827',\n",
       "   '1567184960',\n",
       "   '1567182836',\n",
       "   '0738700525',\n",
       "   '0738700940'],\n",
       "  'title': ' Candlemas: Feast of Flames'},\n",
       " {'ASIN': '0486287785',\n",
       "  'Id': 3,\n",
       "  'categories': 1,\n",
       "  'category_lst': ['|Books[283155]|Subjects[1000]|Home & Garden[48]|Crafts & Hobbies[5126]|General[5144]'],\n",
       "  'group': 'Book',\n",
       "  'review_lst': [{'customer': 'A3IDGASRQAW8B2',\n",
       "    'date': datetime.datetime(2003, 7, 10, 0, 0),\n",
       "    'helpful': 2,\n",
       "    'rating': 5,\n",
       "    'votes': 2}],\n",
       "  'reviews:': {'avg rating': 5.0, 'downloaded': 1, 'total': 1},\n",
       "  'salesrank': 1270652,\n",
       "  'similar': '0',\n",
       "  'similar_lst': [],\n",
       "  'title': ' World War II Allied Fighter Planes Trading Cards'},\n",
       " {'ASIN': '0842328327',\n",
       "  'Id': 4,\n",
       "  'categories': 5,\n",
       "  'category_lst': ['|Books[283155]|Subjects[1000]|Religion & Spirituality[22]|Christianity[12290]|Reference[172810]|Commentaries[12155]|New Testament[12159]',\n",
       "   '|Books[283155]|Subjects[1000]|Religion & Spirituality[22]|Christianity[12290]|Christian Living[12333]|Discipleship[12335]',\n",
       "   '|Books[283155]|Subjects[1000]|Religion & Spirituality[22]|Christianity[12290]|Bibles[12059]|Translations[764432]|Life Application[572080]',\n",
       "   '|Books[283155]|Subjects[1000]|Religion & Spirituality[22]|Bible & Other Sacred Texts[12056]|Bible[764430]|New Testament[572082]',\n",
       "   '|Books[283155]|Subjects[1000]|Religion & Spirituality[22]|Christianity[12290]|Bibles[12059]|Study Guides, History & Reference[764438]|General[572094]'],\n",
       "  'group': 'Book',\n",
       "  'review_lst': [{'customer': 'A2591BUPXCS705',\n",
       "    'date': datetime.datetime(2004, 8, 19, 0, 0),\n",
       "    'helpful': 1,\n",
       "    'rating': 4,\n",
       "    'votes': 1}],\n",
       "  'reviews:': {'avg rating': 4.0, 'downloaded': 1, 'total': 1},\n",
       "  'salesrank': 631289,\n",
       "  'similar': '5',\n",
       "  'similar_lst': ['0842328130',\n",
       "   '0830818138',\n",
       "   '0842330313',\n",
       "   '0842328610',\n",
       "   '0842328572'],\n",
       "  'title': ' Life Application Bible Commentary: 1 and 2 Timothy and Titus'}]"
      ]
     },
     "execution_count": 2,
     "metadata": {},
     "output_type": "execute_result"
    }
   ],
   "source": [
    "def find_review_idx(chunk):\n",
    "    for i,line in enumerate(chunk):\n",
    "        if \"reviews:\" in line:\n",
    "            return i\n",
    "\n",
    "def process_review(review):\n",
    "    split_review = review.split()\n",
    "    review_dct = {\n",
    "        \"total\": int(split_review[2]),\n",
    "        \"downloaded\": int(split_review[4]),\n",
    "        \"avg rating\": float(split_review[7])\n",
    "    }\n",
    "    return split_review[0],review_dct\n",
    "\n",
    "def process_review_dcts(review_list):\n",
    "    review_dcts = []\n",
    "    for line in review_list:\n",
    "        line_sp = line.split()\n",
    "        review_dct = {\n",
    "            \"date\": datetime.datetime.strptime(line_sp[0], \"%Y-%m-%d\"), #parse to a date\n",
    "            \"customer\": line_sp[2],\n",
    "            \"rating\": int(line_sp[4]),\n",
    "            \"votes\": int(line_sp[6]),\n",
    "            \"helpful\": int(line_sp[8])\n",
    "        }\n",
    "        review_dcts.append(review_dct)\n",
    "    return review_dcts\n",
    "\n",
    "def process_chunk(chunk):\n",
    "\n",
    "    ID,id_val = chunk[0].split(\":\")\n",
    "    ASIN,asin_val = chunk[1].split(\":\")\n",
    "    if len(chunk) > 7:\n",
    "        review_idx = find_review_idx(chunk)\n",
    "        title_lst = chunk[2].split(\":\")\n",
    "        group,grp_val = chunk[3].split(\":\")\n",
    "        salesrank,sales_val = chunk[4].split(\":\")\n",
    "        similar,similar_val = chunk[5].split(\":\")\n",
    "        similar_val_lst = similar_val.split()\n",
    "        categories,cat_num = chunk[6].split(\":\")\n",
    "        cat_list = list(map(lambda x: x.strip(\"\\n\").strip(), chunk[7:review_idx]))\n",
    "        reviews,review_dct = process_review(chunk[review_idx])\n",
    "        review_dcts = process_review_dcts(chunk[review_idx+1:])\n",
    "            \n",
    "        chunk_json = {\n",
    "            ID : int(id_val),\n",
    "            ASIN : asin_val.strip(),\n",
    "            title_lst[0].strip() : \":\".join(title_lst[1:]).strip(\"\\n\"),\n",
    "            group.strip() : grp_val.strip().strip(\"\\n\"),\n",
    "            salesrank.strip() : int(sales_val),\n",
    "            similar.strip() : similar_val_lst[0],\n",
    "            \"similar_lst\": similar_val_lst[1:],\n",
    "            categories.strip() : int(cat_num),\n",
    "            \"category_lst\": cat_list,\n",
    "            reviews: review_dct,\n",
    "            \"review_lst\": review_dcts\n",
    "        }\n",
    "    else:\n",
    "        chunk_json = {\n",
    "            ID : int(id_val),\n",
    "            ASIN : asin_val.strip()\n",
    "        }\n",
    "        \n",
    "    return chunk_json\n",
    "\n",
    "current_chunk = []\n",
    "chunks = []\n",
    "\n",
    "with open('amazon-meta.txt', 'r', encoding=\"utf8\") as f:\n",
    "    f.readline()\n",
    "    f.readline()\n",
    "    for line in f:\n",
    "        if line == '\\n' and current_chunk != []:\n",
    "            chunks.append(process_chunk(current_chunk))\n",
    "            current_chunk = []\n",
    "        elif line != '\\n':\n",
    "            current_chunk.append(line)\n",
    "\n",
    "chunks[:5]"
   ]
  },
  {
   "cell_type": "markdown",
   "metadata": {},
   "source": [
    "### Convert to Pandas"
   ]
  },
  {
   "cell_type": "code",
   "execution_count": 3,
   "metadata": {
    "collapsed": true
   },
   "outputs": [],
   "source": [
    "from pandas.io.json import json_normalize\n",
    "df = json_normalize(chunks)"
   ]
  },
  {
   "cell_type": "code",
   "execution_count": 4,
   "metadata": {},
   "outputs": [
    {
     "data": {
      "text/html": [
       "<div>\n",
       "<style>\n",
       "    .dataframe thead tr:only-child th {\n",
       "        text-align: right;\n",
       "    }\n",
       "\n",
       "    .dataframe thead th {\n",
       "        text-align: left;\n",
       "    }\n",
       "\n",
       "    .dataframe tbody tr th {\n",
       "        vertical-align: top;\n",
       "    }\n",
       "</style>\n",
       "<table border=\"1\" class=\"dataframe\">\n",
       "  <thead>\n",
       "    <tr style=\"text-align: right;\">\n",
       "      <th></th>\n",
       "      <th>ASIN</th>\n",
       "      <th>Id</th>\n",
       "      <th>categories</th>\n",
       "      <th>category_lst</th>\n",
       "      <th>group</th>\n",
       "      <th>review_lst</th>\n",
       "      <th>reviews:</th>\n",
       "      <th>salesrank</th>\n",
       "      <th>similar</th>\n",
       "      <th>similar_lst</th>\n",
       "      <th>title</th>\n",
       "    </tr>\n",
       "  </thead>\n",
       "  <tbody>\n",
       "    <tr>\n",
       "      <th>0</th>\n",
       "      <td>0771044445</td>\n",
       "      <td>0</td>\n",
       "      <td>NaN</td>\n",
       "      <td>NaN</td>\n",
       "      <td>NaN</td>\n",
       "      <td>NaN</td>\n",
       "      <td>NaN</td>\n",
       "      <td>NaN</td>\n",
       "      <td>NaN</td>\n",
       "      <td>NaN</td>\n",
       "      <td>NaN</td>\n",
       "    </tr>\n",
       "    <tr>\n",
       "      <th>1</th>\n",
       "      <td>0827229534</td>\n",
       "      <td>1</td>\n",
       "      <td>2.0</td>\n",
       "      <td>[|Books[283155]|Subjects[1000]|Religion &amp; Spir...</td>\n",
       "      <td>Book</td>\n",
       "      <td>[{'date': 2000-07-28 00:00:00, 'customer': 'A2...</td>\n",
       "      <td>{'total': 2, 'downloaded': 2, 'avg rating': 5.0}</td>\n",
       "      <td>396585.0</td>\n",
       "      <td>5</td>\n",
       "      <td>[0804215715, 156101074X, 0687023955, 068707423...</td>\n",
       "      <td>Patterns of Preaching: A Sermon Sampler</td>\n",
       "    </tr>\n",
       "    <tr>\n",
       "      <th>2</th>\n",
       "      <td>0738700797</td>\n",
       "      <td>2</td>\n",
       "      <td>2.0</td>\n",
       "      <td>[|Books[283155]|Subjects[1000]|Religion &amp; Spir...</td>\n",
       "      <td>Book</td>\n",
       "      <td>[{'date': 2001-12-16 00:00:00, 'customer': 'A1...</td>\n",
       "      <td>{'total': 12, 'downloaded': 12, 'avg rating': ...</td>\n",
       "      <td>168596.0</td>\n",
       "      <td>5</td>\n",
       "      <td>[0738700827, 1567184960, 1567182836, 073870052...</td>\n",
       "      <td>Candlemas: Feast of Flames</td>\n",
       "    </tr>\n",
       "    <tr>\n",
       "      <th>3</th>\n",
       "      <td>0486287785</td>\n",
       "      <td>3</td>\n",
       "      <td>1.0</td>\n",
       "      <td>[|Books[283155]|Subjects[1000]|Home &amp; Garden[4...</td>\n",
       "      <td>Book</td>\n",
       "      <td>[{'date': 2003-07-10 00:00:00, 'customer': 'A3...</td>\n",
       "      <td>{'total': 1, 'downloaded': 1, 'avg rating': 5.0}</td>\n",
       "      <td>1270652.0</td>\n",
       "      <td>0</td>\n",
       "      <td>[]</td>\n",
       "      <td>World War II Allied Fighter Planes Trading Cards</td>\n",
       "    </tr>\n",
       "    <tr>\n",
       "      <th>4</th>\n",
       "      <td>0842328327</td>\n",
       "      <td>4</td>\n",
       "      <td>5.0</td>\n",
       "      <td>[|Books[283155]|Subjects[1000]|Religion &amp; Spir...</td>\n",
       "      <td>Book</td>\n",
       "      <td>[{'date': 2004-08-19 00:00:00, 'customer': 'A2...</td>\n",
       "      <td>{'total': 1, 'downloaded': 1, 'avg rating': 4.0}</td>\n",
       "      <td>631289.0</td>\n",
       "      <td>5</td>\n",
       "      <td>[0842328130, 0830818138, 0842330313, 084232861...</td>\n",
       "      <td>Life Application Bible Commentary: 1 and 2 Ti...</td>\n",
       "    </tr>\n",
       "  </tbody>\n",
       "</table>\n",
       "</div>"
      ],
      "text/plain": [
       "         ASIN  Id  categories  \\\n",
       "0  0771044445   0         NaN   \n",
       "1  0827229534   1         2.0   \n",
       "2  0738700797   2         2.0   \n",
       "3  0486287785   3         1.0   \n",
       "4  0842328327   4         5.0   \n",
       "\n",
       "                                        category_lst group  \\\n",
       "0                                                NaN   NaN   \n",
       "1  [|Books[283155]|Subjects[1000]|Religion & Spir...  Book   \n",
       "2  [|Books[283155]|Subjects[1000]|Religion & Spir...  Book   \n",
       "3  [|Books[283155]|Subjects[1000]|Home & Garden[4...  Book   \n",
       "4  [|Books[283155]|Subjects[1000]|Religion & Spir...  Book   \n",
       "\n",
       "                                          review_lst  \\\n",
       "0                                                NaN   \n",
       "1  [{'date': 2000-07-28 00:00:00, 'customer': 'A2...   \n",
       "2  [{'date': 2001-12-16 00:00:00, 'customer': 'A1...   \n",
       "3  [{'date': 2003-07-10 00:00:00, 'customer': 'A3...   \n",
       "4  [{'date': 2004-08-19 00:00:00, 'customer': 'A2...   \n",
       "\n",
       "                                            reviews:  salesrank similar  \\\n",
       "0                                                NaN        NaN     NaN   \n",
       "1   {'total': 2, 'downloaded': 2, 'avg rating': 5.0}   396585.0       5   \n",
       "2  {'total': 12, 'downloaded': 12, 'avg rating': ...   168596.0       5   \n",
       "3   {'total': 1, 'downloaded': 1, 'avg rating': 5.0}  1270652.0       0   \n",
       "4   {'total': 1, 'downloaded': 1, 'avg rating': 4.0}   631289.0       5   \n",
       "\n",
       "                                         similar_lst  \\\n",
       "0                                                NaN   \n",
       "1  [0804215715, 156101074X, 0687023955, 068707423...   \n",
       "2  [0738700827, 1567184960, 1567182836, 073870052...   \n",
       "3                                                 []   \n",
       "4  [0842328130, 0830818138, 0842330313, 084232861...   \n",
       "\n",
       "                                               title  \n",
       "0                                                NaN  \n",
       "1            Patterns of Preaching: A Sermon Sampler  \n",
       "2                         Candlemas: Feast of Flames  \n",
       "3   World War II Allied Fighter Planes Trading Cards  \n",
       "4   Life Application Bible Commentary: 1 and 2 Ti...  "
      ]
     },
     "execution_count": 4,
     "metadata": {},
     "output_type": "execute_result"
    }
   ],
   "source": [
    "df.head()"
   ]
  },
  {
   "cell_type": "markdown",
   "metadata": {},
   "source": [
    "# A. Exploratory Analysis"
   ]
  },
  {
   "cell_type": "code",
   "execution_count": 5,
   "metadata": {},
   "outputs": [
    {
     "name": "stdout",
     "output_type": "stream",
     "text": [
      "<class 'pandas.core.frame.DataFrame'>\n",
      "RangeIndex: 548552 entries, 0 to 548551\n",
      "Data columns (total 11 columns):\n",
      "ASIN            548552 non-null object\n",
      "Id              548552 non-null int64\n",
      "categories      542684 non-null float64\n",
      "category_lst    542684 non-null object\n",
      "group           542684 non-null object\n",
      "review_lst      542684 non-null object\n",
      "reviews:        542684 non-null object\n",
      "salesrank       542684 non-null float64\n",
      "similar         542684 non-null object\n",
      "similar_lst     542684 non-null object\n",
      "title           542684 non-null object\n",
      "dtypes: float64(2), int64(1), object(8)\n",
      "memory usage: 46.0+ MB\n"
     ]
    }
   ],
   "source": [
    "#explore data\n",
    "df.info()"
   ]
  },
  {
   "cell_type": "code",
   "execution_count": 6,
   "metadata": {},
   "outputs": [
    {
     "name": "stdout",
     "output_type": "stream",
     "text": [
      "There are 5868 missing values in categories, category_list, group, review_1st, reviews:, salesrank, similar, similar_1st, and title.\n"
     ]
    }
   ],
   "source": [
    "print('There are', len(df[df['categories'].isnull()]), 'missing values in categories, category_list, group, review_1st, reviews:, salesrank, similar, similar_1st, and title.')"
   ]
  },
  {
   "cell_type": "code",
   "execution_count": 7,
   "metadata": {},
   "outputs": [
    {
     "data": {
      "text/html": [
       "<div>\n",
       "<style>\n",
       "    .dataframe thead tr:only-child th {\n",
       "        text-align: right;\n",
       "    }\n",
       "\n",
       "    .dataframe thead th {\n",
       "        text-align: left;\n",
       "    }\n",
       "\n",
       "    .dataframe tbody tr th {\n",
       "        vertical-align: top;\n",
       "    }\n",
       "</style>\n",
       "<table border=\"1\" class=\"dataframe\">\n",
       "  <thead>\n",
       "    <tr style=\"text-align: right;\">\n",
       "      <th></th>\n",
       "      <th>Id</th>\n",
       "      <th>categories</th>\n",
       "      <th>salesrank</th>\n",
       "    </tr>\n",
       "  </thead>\n",
       "  <tbody>\n",
       "    <tr>\n",
       "      <th>count</th>\n",
       "      <td>548552.000000</td>\n",
       "      <td>542684.000000</td>\n",
       "      <td>5.426840e+05</td>\n",
       "    </tr>\n",
       "    <tr>\n",
       "      <th>mean</th>\n",
       "      <td>274275.500000</td>\n",
       "      <td>4.624605</td>\n",
       "      <td>4.893243e+05</td>\n",
       "    </tr>\n",
       "    <tr>\n",
       "      <th>std</th>\n",
       "      <td>158353.466769</td>\n",
       "      <td>4.450647</td>\n",
       "      <td>5.677230e+05</td>\n",
       "    </tr>\n",
       "    <tr>\n",
       "      <th>min</th>\n",
       "      <td>0.000000</td>\n",
       "      <td>0.000000</td>\n",
       "      <td>-1.000000e+00</td>\n",
       "    </tr>\n",
       "    <tr>\n",
       "      <th>25%</th>\n",
       "      <td>137137.750000</td>\n",
       "      <td>2.000000</td>\n",
       "      <td>9.074100e+04</td>\n",
       "    </tr>\n",
       "    <tr>\n",
       "      <th>50%</th>\n",
       "      <td>274275.500000</td>\n",
       "      <td>4.000000</td>\n",
       "      <td>3.004900e+05</td>\n",
       "    </tr>\n",
       "    <tr>\n",
       "      <th>75%</th>\n",
       "      <td>411413.250000</td>\n",
       "      <td>6.000000</td>\n",
       "      <td>6.720688e+05</td>\n",
       "    </tr>\n",
       "    <tr>\n",
       "      <th>max</th>\n",
       "      <td>548551.000000</td>\n",
       "      <td>116.000000</td>\n",
       "      <td>3.798351e+06</td>\n",
       "    </tr>\n",
       "  </tbody>\n",
       "</table>\n",
       "</div>"
      ],
      "text/plain": [
       "                  Id     categories     salesrank\n",
       "count  548552.000000  542684.000000  5.426840e+05\n",
       "mean   274275.500000       4.624605  4.893243e+05\n",
       "std    158353.466769       4.450647  5.677230e+05\n",
       "min         0.000000       0.000000 -1.000000e+00\n",
       "25%    137137.750000       2.000000  9.074100e+04\n",
       "50%    274275.500000       4.000000  3.004900e+05\n",
       "75%    411413.250000       6.000000  6.720688e+05\n",
       "max    548551.000000     116.000000  3.798351e+06"
      ]
     },
     "execution_count": 7,
     "metadata": {},
     "output_type": "execute_result"
    }
   ],
   "source": [
    "#check numbers\n",
    "df.describe()"
   ]
  },
  {
   "cell_type": "markdown",
   "metadata": {},
   "source": [
    "Ids look fine and there are 116 different categories. For some reason salesrank have a range bewteen -1 & 3798351"
   ]
  },
  {
   "cell_type": "code",
   "execution_count": 8,
   "metadata": {},
   "outputs": [
    {
     "data": {
      "image/png": "[encoded data removed]",
      "text/plain": [
       "<matplotlib.figure.Figure at 0x2d4088bb630>"
      ]
     },
     "metadata": {},
     "output_type": "display_data"
    }
   ],
   "source": [
    "#check distributions\n",
    "import matplotlib.pyplot as plt\n",
    "import seaborn as sns\n",
    "\n",
    "a =plt.subplot(321)\n",
    "sns.distplot(df[df['Id'].notnull()]['Id'], color='#1e90ff', kde=False)\n",
    "a.set_title(\"Id\")\n",
    "\n",
    "b =plt.subplot(322)\n",
    "sns.distplot(df[df['categories'].notnull()]['categories'], color='#1e90ff', kde=False)\n",
    "b.set_title(\"Categories\")\n",
    "\n",
    "c =plt.subplot(323)\n",
    "sns.distplot(df[df['salesrank'].notnull()]['salesrank'], color='#1e90ff', kde=False)\n",
    "c.set_title(\"Salesrank\")\n",
    "\n",
    "\n",
    "plt.subplots_adjust(top=2, bottom=0.08, left=0.10, right=2, hspace=.7, wspace=0.3)\n",
    "plt.show()"
   ]
  },
  {
   "cell_type": "markdown",
   "metadata": {},
   "source": [
    "It seems like a lot of products share the same salesrank. The other distributions make sense. Let's check for any outliers using boxplots."
   ]
  },
  {
   "cell_type": "code",
   "execution_count": 9,
   "metadata": {},
   "outputs": [
    {
     "data": {
      "image/png": "[encoded data removed]",
      "text/plain": [
       "<matplotlib.figure.Figure at 0x2d40ba7e278>"
      ]
     },
     "metadata": {},
     "output_type": "display_data"
    }
   ],
   "source": [
    "a =plt.subplot(321)\n",
    "sns.boxplot(x=df[df['Id'].notnull()]['Id'], color='#1e90ff')\n",
    "a.set_title(\"Id\")\n",
    "\n",
    "b =plt.subplot(322)\n",
    "sns.boxplot(x=df[df['categories'].notnull()]['categories'], color='#1e90ff')\n",
    "b.set_title(\"Categories\")\n",
    "\n",
    "c =plt.subplot(323)\n",
    "sns.boxplot(x=df[df['salesrank'].notnull()]['salesrank'], color='#1e90ff')\n",
    "c.set_title(\"Salesrank\")\n",
    "\n",
    "plt.subplots_adjust(top=2, bottom=0.08, left=0.10, right=2, hspace=.7, wspace=0.3)\n",
    "plt.show()"
   ]
  },
  {
   "cell_type": "markdown",
   "metadata": {},
   "source": [
    "Most of the products fall between 15 and 20 categories, even though there are over 100 categories."
   ]
  },
  {
   "cell_type": "markdown",
   "metadata": {},
   "source": [
    "Let's check for categorical columns."
   ]
  },
  {
   "cell_type": "code",
   "execution_count": 10,
   "metadata": {},
   "outputs": [
    {
     "data": {
      "image/png": "[encoded data removed]",
      "text/plain": [
       "<matplotlib.figure.Figure at 0x2d408919320>"
      ]
     },
     "metadata": {},
     "output_type": "display_data"
    }
   ],
   "source": [
    "#top categories\n",
    "a=df['categories'].value_counts().nlargest(10).index\n",
    "b=df['categories'].value_counts().nlargest(10)\n",
    "sns.barplot(x=a, y=b)\n",
    "plt.title('Categories')\n",
    "plt.ylabel('Count')\n",
    "plt.show()"
   ]
  },
  {
   "cell_type": "code",
   "execution_count": 11,
   "metadata": {},
   "outputs": [
    {
     "name": "stdout",
     "output_type": "stream",
     "text": [
      "0 :[]\n",
      "Name: category_lst, dtype: object\n",
      "1 :|Books[283155]|Subjects[1000]|Home & Garden[4...\n",
      "Name: category_lst, dtype: object\n",
      "2 :|Books[283155]|Subjects[1000]|Religion & Spir...\n",
      "Name: category_lst, dtype: object\n",
      "3 :|Music[5174]|Styles[301668]|Jazz[34]|General[...\n",
      "Name: category_lst, dtype: object\n",
      "4 :|Books[283155]|Subjects[1000]|Gay & Lesbian[3...\n",
      "Name: category_lst, dtype: object\n",
      "5 :|Books[283155]|Subjects[1000]|Religion & Spir...\n",
      "Name: category_lst, dtype: object\n",
      "6 :[|Books[283155]|Subjects[1000]|Children's Book...\n",
      "Name: category_lst, dtype: object\n",
      "7 :[|Books[283155]|Subjects[1000]|Business & Inve...\n",
      "Name: category_lst, dtype: object\n",
      "8 :[|Books[283155]|Subjects[1000]|Business & Inve...\n",
      "Name: category_lst, dtype: object\n",
      "9 :[|Books[283155]|Subjects[1000]|Cooking, Food &...\n",
      "Name: category_lst, dtype: object\n"
     ]
    }
   ],
   "source": [
    "for i in range(0,10):\n",
    "    print(str(i)+\" :\"+str(df[df['categories']==i]['category_lst'].head(1))[6:])"
   ]
  },
  {
   "cell_type": "markdown",
   "metadata": {},
   "source": [
    "The most common categories are Books on subjects of Religion & Sprituality followed by Book on Jazz. All of the top ten categories are books except for category 0. Category 0 does not have a name so it's probably items that do not fall in any category"
   ]
  },
  {
   "cell_type": "code",
   "execution_count": 12,
   "metadata": {},
   "outputs": [
    {
     "data": {
      "image/png": "[encoded data removed]",
      "text/plain": [
       "<matplotlib.figure.Figure at 0x2d4089190b8>"
      ]
     },
     "metadata": {},
     "output_type": "display_data"
    }
   ],
   "source": [
    "#top groups\n",
    "a=df['group'].value_counts().nlargest(10).index\n",
    "b=df['group'].value_counts().nlargest(10)\n",
    "sns.barplot(x=a, y=b)\n",
    "plt.title('Groups')\n",
    "plt.ylabel('Count')\n",
    "plt.show()"
   ]
  },
  {
   "cell_type": "markdown",
   "metadata": {},
   "source": [
    "By far the largest group is book with over 350,000 items. Music comes in second followedd by video."
   ]
  },
  {
   "cell_type": "markdown",
   "metadata": {},
   "source": [
    "## 1. Trustworthiness of ratings"
   ]
  },
  {
   "cell_type": "code",
   "execution_count": 13,
   "metadata": {},
   "outputs": [],
   "source": [
    "#Get ratings\n",
    "ratings=[]\n",
    "for i in df['reviews:']:\n",
    "    try:\n",
    "        ratings.append(i['avg rating'])\n",
    "    except:\n",
    "        ratings.append(None)\n",
    "df['ratings']=ratings"
   ]
  },
  {
   "cell_type": "code",
   "execution_count": 14,
   "metadata": {},
   "outputs": [
    {
     "data": {
      "image/png": "[encoded data removed]",
      "text/plain": [
       "<matplotlib.figure.Figure at 0x2d40c256240>"
      ]
     },
     "metadata": {},
     "output_type": "display_data"
    }
   ],
   "source": [
    "#disply ratings\n",
    "a=df['ratings'].value_counts().index\n",
    "b=df['ratings'].value_counts()\n",
    "sns.barplot(x=a, y=b)\n",
    "plt.title('Ratings')\n",
    "plt.ylabel('Count')\n",
    "plt.show()"
   ]
  },
  {
   "cell_type": "markdown",
   "metadata": {},
   "source": [
    "Ratings clearly reflect a bias. Most users rate favorably and this makes sense since amazon is fairly popular. A 0 ratings translates to no rating at all."
   ]
  },
  {
   "cell_type": "markdown",
   "metadata": {},
   "source": [
    "## 2. Category bloat"
   ]
  },
  {
   "cell_type": "markdown",
   "metadata": {},
   "source": [
    "#### a. Is there redundancy in the categorization? How can it be identified/removed?"
   ]
  },
  {
   "cell_type": "code",
   "execution_count": 15,
   "metadata": {},
   "outputs": [
    {
     "data": {
      "text/plain": [
       "3.0      77383\n",
       "2.0      77242\n",
       "4.0      64866\n",
       "1.0      43564\n",
       "5.0      39070\n",
       "6.0      28819\n",
       "0.0      18422\n",
       "7.0      14873\n",
       "8.0      12477\n",
       "9.0       5863\n",
       "10.0      4605\n",
       "11.0      2357\n",
       "12.0      1764\n",
       "13.0       898\n",
       "14.0       582\n",
       "15.0       315\n",
       "16.0       214\n",
       "17.0       114\n",
       "18.0        70\n",
       "19.0        27\n",
       "20.0        15\n",
       "23.0         7\n",
       "21.0         4\n",
       "22.0         4\n",
       "26.0         2\n",
       "24.0         2\n",
       "34.0         1\n",
       "116.0        1\n",
       "Name: categories, dtype: int64"
      ]
     },
     "execution_count": 15,
     "metadata": {},
     "output_type": "execute_result"
    }
   ],
   "source": [
    "df[df['group']=='Book']['categories'].value_counts()"
   ]
  },
  {
   "cell_type": "markdown",
   "metadata": {},
   "source": [
    "There is some redundancy since there are some categories with only one item. This redundancy can be removed by removing some categories such as category 20, 23, 21, 22, 26, 24, 34, and 116."
   ]
  },
  {
   "cell_type": "markdown",
   "metadata": {},
   "source": [
    "#### b. Is it possible to reduce the number of categories drastically (say to 10% of existing categories) by sacrificing relatively few category entries (say close to 10%)?"
   ]
  },
  {
   "cell_type": "code",
   "execution_count": 22,
   "metadata": {},
   "outputs": [
    {
     "data": {
      "text/plain": [
       "91"
      ]
     },
     "execution_count": 22,
     "metadata": {},
     "output_type": "execute_result"
    }
   ],
   "source": [
    "len(df['categories'].unique())"
   ]
  },
  {
   "cell_type": "markdown",
   "metadata": {},
   "source": [
    "There are 91 unique categories, so we reduce categories by 10%, which is roughly 9 categories."
   ]
  },
  {
   "cell_type": "code",
   "execution_count": 31,
   "metadata": {},
   "outputs": [
    {
     "data": {
      "text/plain": [
       "81.0     1\n",
       "58.0     1\n",
       "116.0    1\n",
       "97.0     1\n",
       "80.0     1\n",
       "67.0     1\n",
       "95.0     1\n",
       "74.0     1\n",
       "73.0     1\n",
       "Name: categories, dtype: int64"
      ]
     },
     "execution_count": 31,
     "metadata": {},
     "output_type": "execute_result"
    }
   ],
   "source": [
    "df['categories'].value_counts().nsmallest(9)"
   ]
  },
  {
   "cell_type": "markdown",
   "metadata": {},
   "source": [
    "There are 9 categories with only one item, so it's definitely possible to reduce the number of categories drastically by sacrificing relatively few category entries."
   ]
  },
  {
   "cell_type": "markdown",
   "metadata": {},
   "source": [
    "# B."
   ]
  },
  {
   "cell_type": "markdown",
   "metadata": {},
   "source": [
    "### 1. Algorithm thinking\n",
    "##### How would you build the product categorization from scratch, using similar/co-purchased information? "
   ]
  },
  {
   "cell_type": "markdown",
   "metadata": {},
   "source": [
    "I would use a Kmeans algorithm to look at clusters of similar purchased items. And based on the appropriate number of clusters, I would name each cluster accordingly based on key words in the products' title."
   ]
  },
  {
   "cell_type": "markdown",
   "metadata": {},
   "source": [
    "### 2. Product thinking\n",
    "#### Now, put on your 'product thinking' hat."
   ]
  },
  {
   "cell_type": "markdown",
   "metadata": {},
   "source": [
    "#### a. Is it a good idea to show users the categorization hierarchy for items?"
   ]
  },
  {
   "cell_type": "markdown",
   "metadata": {},
   "source": [
    "It's a good idea to show product categorization for items to help users find items. However, showing the categorization hierachy may not be a good idea. Items that are in very low categories in the hierachy may be overlooked or ignored. "
   ]
  },
  {
   "cell_type": "markdown",
   "metadata": {},
   "source": [
    "#### b. Is it a good idea to show users similar/co-purchased items"
   ]
  },
  {
   "cell_type": "markdown",
   "metadata": {},
   "source": [
    "This is definitely a good idea because it provides users with recommendations. A user may even find the product he or she was looking in the similar products or even a better product."
   ]
  },
  {
   "cell_type": "markdown",
   "metadata": {},
   "source": [
    "#### c. Is it a good idea to show users reviews and ratings for items"
   ]
  },
  {
   "cell_type": "markdown",
   "metadata": {},
   "source": [
    "Since most of the reviews are positive, it is a good idea to show users ratings for items. It also provides users with more information that allows them to make a good purchasing decision, which in of itself improves the trust the customers have with the company."
   ]
  },
  {
   "cell_type": "markdown",
   "metadata": {},
   "source": [
    "#### d. For each of the above, why? How will you establish the same?"
   ]
  },
  {
   "cell_type": "markdown",
   "metadata": {},
   "source": [
    "Customer satisfaction is extremely important to Amazon. The company understands good customer satisfaction is one the key reasons of the company's success. More informed customers make better purchasing decision and are more likely to be satisfied. So by showing product categories and ratings, Amazon helps its customers make better purchasing decisions."
   ]
  },
  {
   "cell_type": "code",
   "execution_count": null,
   "metadata": {
    "collapsed": true
   },
   "outputs": [],
   "source": []
  }
 ],
 "metadata": {
  "kernelspec": {
   "display_name": "Python 3",
   "language": "python",
   "name": "python3"
  },
  "language_info": {
   "codemirror_mode": {
    "name": "ipython",
    "version": 3
   },
   "file_extension": ".py",
   "mimetype": "text/x-python",
   "name": "python",
   "nbconvert_exporter": "python",
   "pygments_lexer": "ipython3",
   "version": "3.6.1"
  }
 },
 "nbformat": 4,
 "nbformat_minor": 2
}
