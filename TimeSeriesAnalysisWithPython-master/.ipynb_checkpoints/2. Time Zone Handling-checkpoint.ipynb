{
 "cells": [
  {
   "cell_type": "code",
   "execution_count": 1,
   "metadata": {
    "collapsed": true
   },
   "outputs": [],
   "source": [
    "import numpy as np\n",
    "import pandas as pd"
   ]
  },
  {
   "cell_type": "code",
   "execution_count": 2,
   "metadata": {
    "collapsed": true
   },
   "outputs": [],
   "source": [
    "rng = pd.date_range('3/6/2012 00:00', periods = 15, freq = 'D')\n",
    "rng.tz"
   ]
  },
  {
   "cell_type": "code",
   "execution_count": 3,
   "metadata": {},
   "outputs": [
    {
     "data": {
      "text/plain": [
       "<DstTzInfo 'Europe/London' LMT-1 day, 23:59:00 STD>"
      ]
     },
     "execution_count": 3,
     "metadata": {},
     "output_type": "execute_result"
    }
   ],
   "source": [
    "rng_tz = pd.date_range('3/6/2012 00:00', periods = 15, freq = 'D', tz = 'Europe/London')\n",
    "rng_tz.tz"
   ]
  },
  {
   "cell_type": "code",
   "execution_count": 4,
   "metadata": {},
   "outputs": [
    {
     "name": "stdout",
     "output_type": "stream",
     "text": [
      "439\n",
      "593\n",
      "{'America/Rosario', 'Asia/Katmandu', 'Australia/Queensland', 'Universal', 'EET', 'Australia/West', 'Etc/GMT-2', 'Etc/GMT+5', 'Greenwich', 'America/Virgin', 'Singapore', 'Kwajalein', 'US/Michigan', 'Turkey', 'Etc/GMT+8', 'Etc/GMT-3', 'Australia/South', 'Etc/GMT', 'Brazil/Acre', 'Etc/Greenwich', 'Asia/Dacca', 'Asia/Thimbu', 'Iran', 'Etc/GMT-13', 'Pacific/Ponape', 'MST7MDT', 'Asia/Chongqing', 'America/Louisville', 'Etc/GMT-0', 'Hongkong', 'Mexico/BajaNorte', 'America/Santa_Isabel', 'CST6CDT', 'America/Coral_Harbour', 'Canada/East-Saskatchewan', 'Australia/North', 'Canada/Saskatchewan', 'Etc/GMT0', 'America/Mendoza', 'Etc/GMT+12', 'Etc/GMT-14', 'Asia/Istanbul', 'Etc/GMT-9', 'Etc/GMT-7', 'Europe/Belfast', 'America/Argentina/ComodRivadavia', 'Brazil/DeNoronha', 'W-SU', 'Jamaica', 'Etc/GMT-11', 'Etc/GMT-8', 'Etc/Zulu', 'America/Catamarca', 'Etc/Universal', 'Australia/LHI', 'US/Aleutian', 'CET', 'America/Jujuy', 'Europe/Nicosia', 'GMT+0', 'US/Samoa', 'America/Indianapolis', 'PRC', 'Portugal', 'Asia/Calcutta', 'Cuba', 'Etc/GMT+6', 'EST5EDT', 'Etc/GMT+11', 'Mexico/BajaSur', 'Asia/Chungking', 'America/Ensenada', 'Africa/Asmera', 'Etc/GMT+4', 'Asia/Kashgar', 'America/Shiprock', 'Canada/Yukon', 'Pacific/Johnston', 'Etc/GMT+3', 'Europe/Tiraspol', 'Poland', 'PST8PDT', 'Pacific/Samoa', 'MST', 'Asia/Ujung_Pandang', 'Africa/Timbuktu', 'HST', 'Etc/UCT', 'Etc/GMT+7', 'Pacific/Truk', 'Japan', 'Asia/Harbin', 'Australia/ACT', 'Chile/EasterIsland', 'America/Buenos_Aires', 'America/Fort_Wayne', 'Asia/Saigon', 'America/Porto_Acre', 'Brazil/East', 'Etc/GMT-4', 'MET', 'Pacific/Yap', 'Iceland', 'Antarctica/South_Pole', 'Asia/Macao', 'GB', 'Atlantic/Faeroe', 'Etc/GMT+1', 'ROC', 'NZ-CHAT', 'Eire', 'EST', 'Zulu', 'Australia/Yancowinna', 'Australia/NSW', 'Etc/GMT-10', 'Brazil/West', 'Etc/GMT-1', 'Israel', 'Australia/Tasmania', 'Asia/Rangoon', 'NZ', 'Etc/GMT+10', 'Etc/GMT+0', 'Mexico/General', 'Asia/Ashkhabad', 'Etc/UTC', 'GB-Eire', 'Chile/Continental', 'Libya', 'WET', 'GMT-0', 'America/Montreal', 'Atlantic/Jan_Mayen', 'ROK', 'Etc/GMT+2', 'Australia/Canberra', 'UCT', 'GMT0', 'America/Atka', 'US/Indiana-Starke', 'America/Cordoba', 'US/Pacific-New', 'Asia/Ulan_Bator', 'Etc/GMT-12', 'Etc/GMT+9', 'Navajo', 'Etc/GMT-6', 'America/Knox_IN', 'Etc/GMT-5', 'Egypt', 'US/East-Indiana', 'Asia/Tel_Aviv', 'Australia/Victoria'}\n"
     ]
    }
   ],
   "source": [
    "from pytz import common_timezones, all_timezones\n",
    "print(len(common_timezones))\n",
    "print(len(all_timezones))\n",
    "print(set(all_timezones) - set(common_timezones))"
   ]
  },
  {
   "cell_type": "code",
   "execution_count": 5,
   "metadata": {},
   "outputs": [
    {
     "data": {
      "text/plain": [
       "Timestamp('2016-07-10 08:50:00')"
      ]
     },
     "execution_count": 5,
     "metadata": {},
     "output_type": "execute_result"
    }
   ],
   "source": [
    "# You can also localize a naive timestamp\n",
    "t_naive = pd.Timestamp('2016-07-10 08:50')\n",
    "t_naive"
   ]
  },
  {
   "cell_type": "code",
   "execution_count": 6,
   "metadata": {},
   "outputs": [
    {
     "data": {
      "text/plain": [
       "Timestamp('2016-07-10 08:50:00-0500', tz='US/Central')"
      ]
     },
     "execution_count": 6,
     "metadata": {},
     "output_type": "execute_result"
    }
   ],
   "source": [
    "t = t_naive.tz_localize(tz = 'US/Central')\n",
    "t"
   ]
  },
  {
   "cell_type": "code",
   "execution_count": 7,
   "metadata": {},
   "outputs": [
    {
     "data": {
      "text/plain": [
       "Timestamp('2016-07-10 22:50:00+0900', tz='Asia/Tokyo')"
      ]
     },
     "execution_count": 7,
     "metadata": {},
     "output_type": "execute_result"
    }
   ],
   "source": [
    "t.tz_convert('Asia/Tokyo')"
   ]
  },
  {
   "cell_type": "code",
   "execution_count": 8,
   "metadata": {},
   "outputs": [
    {
     "data": {
      "text/plain": [
       "2016-03-10 00:00:00-06:00    0\n",
       "2016-03-11 00:00:00-06:00    1\n",
       "2016-03-12 00:00:00-06:00    2\n",
       "2016-03-13 00:00:00-06:00    3\n",
       "2016-03-14 00:00:00-05:00    4\n",
       "2016-03-15 00:00:00-05:00    5\n",
       "2016-03-16 00:00:00-05:00    6\n",
       "2016-03-17 00:00:00-05:00    7\n",
       "2016-03-18 00:00:00-05:00    8\n",
       "2016-03-19 00:00:00-05:00    9\n",
       "Freq: D, dtype: int32"
      ]
     },
     "execution_count": 8,
     "metadata": {},
     "output_type": "execute_result"
    }
   ],
   "source": [
    "# how to handle daylight savings?\n",
    "rng = pd.date_range('2016-03-10', periods=10, tz='US/Central')\n",
    "ts = pd.Series(range(10), index=rng)\n",
    "ts"
   ]
  },
  {
   "cell_type": "code",
   "execution_count": 9,
   "metadata": {},
   "outputs": [
    {
     "data": {
      "text/plain": [
       "2016-03-10 00:00:00+00:00    0\n",
       "2016-03-11 00:00:00+00:00    1\n",
       "2016-03-12 00:00:00+00:00    2\n",
       "2016-03-13 00:00:00+00:00    3\n",
       "2016-03-14 00:00:00+00:00    4\n",
       "2016-03-15 00:00:00+00:00    5\n",
       "2016-03-16 00:00:00+00:00    6\n",
       "2016-03-17 00:00:00+00:00    7\n",
       "2016-03-18 00:00:00+00:00    8\n",
       "2016-03-19 00:00:00+00:00    9\n",
       "Freq: D, dtype: int32"
      ]
     },
     "execution_count": 9,
     "metadata": {},
     "output_type": "execute_result"
    }
   ],
   "source": [
    "rng = pd.date_range('2016-03-10', periods=10, tz='utc')\n",
    "ts = pd.Series(range(10), index=rng)\n",
    "ts"
   ]
  },
  {
   "cell_type": "code",
   "execution_count": 10,
   "metadata": {},
   "outputs": [
    {
     "data": {
      "text/plain": [
       "2016-03-09 18:00:00-06:00    0\n",
       "2016-03-10 18:00:00-06:00    1\n",
       "2016-03-11 18:00:00-06:00    2\n",
       "2016-03-12 18:00:00-06:00    3\n",
       "2016-03-13 19:00:00-05:00    4\n",
       "2016-03-14 19:00:00-05:00    5\n",
       "2016-03-15 19:00:00-05:00    6\n",
       "2016-03-16 19:00:00-05:00    7\n",
       "2016-03-17 19:00:00-05:00    8\n",
       "2016-03-18 19:00:00-05:00    9\n",
       "Freq: D, dtype: int32"
      ]
     },
     "execution_count": 10,
     "metadata": {},
     "output_type": "execute_result"
    }
   ],
   "source": [
    "ts.tz_convert('US/Central')"
   ]
  },
  {
   "cell_type": "code",
   "execution_count": 11,
   "metadata": {},
   "outputs": [
    {
     "data": {
      "text/plain": [
       "DatetimeIndex(['2016-03-12 22:00:00-05:00', '2016-03-12 23:00:00-05:00',\n",
       "               '2016-03-13 00:00:00-05:00', '2016-03-13 01:00:00-05:00',\n",
       "               '2016-03-13 03:00:00-04:00', '2016-03-13 04:00:00-04:00',\n",
       "               '2016-03-13 05:00:00-04:00', '2016-03-13 06:00:00-04:00',\n",
       "               '2016-03-13 07:00:00-04:00', '2016-03-13 08:00:00-04:00',\n",
       "               '2016-03-13 09:00:00-04:00', '2016-03-13 10:00:00-04:00'],\n",
       "              dtype='datetime64[ns, US/Eastern]', freq='H')"
      ]
     },
     "execution_count": 11,
     "metadata": {},
     "output_type": "execute_result"
    }
   ],
   "source": [
    "pd.date_range('03-12-2016 22:00', periods = 12, freq = 'H', tz = 'US/Eastern')"
   ]
  },
  {
   "cell_type": "code",
   "execution_count": 12,
   "metadata": {},
   "outputs": [
    {
     "data": {
      "text/plain": [
       "Timestamp('2016-03-13 02:00:00+0000', tz='UTC')"
      ]
     },
     "execution_count": 12,
     "metadata": {},
     "output_type": "execute_result"
    }
   ],
   "source": [
    "# May autocorrect an error rather than giving you a non-existent time error\n",
    "pd.Timestamp('2016-03-13 02:00', tz = 'utc')"
   ]
  },
  {
   "cell_type": "code",
   "execution_count": null,
   "metadata": {
    "collapsed": true
   },
   "outputs": [],
   "source": []
  }
 ],
 "metadata": {
  "kernelspec": {
   "display_name": "Python 3",
   "language": "python",
   "name": "python3"
  },
  "language_info": {
   "codemirror_mode": {
    "name": "ipython",
    "version": 3
   },
   "file_extension": ".py",
   "mimetype": "text/x-python",
   "name": "python",
   "nbconvert_exporter": "python",
   "pygments_lexer": "ipython3",
   "version": "3.6.1"
  },
  "widgets": {
   "state": {},
   "version": "1.1.1"
  }
 },
 "nbformat": 4,
 "nbformat_minor": 1
}
