{
 "cells": [
  {
   "cell_type": "code",
   "execution_count": 1,
   "metadata": {
    "collapsed": true
   },
   "outputs": [],
   "source": [
    "import numpy as np\n",
    "import pandas as pd"
   ]
  },
  {
   "cell_type": "code",
   "execution_count": 2,
   "metadata": {
    "collapsed": true
   },
   "outputs": [],
   "source": [
    "rng = pd.date_range('3/6/2012 00:00', periods = 15, freq = 'D')\n",
    "rng.tz"
   ]
  },
  {
   "cell_type": "code",
   "execution_count": 3,
   "metadata": {},
   "outputs": [
    {
     "data": {
      "text/plain": [
       "<DstTzInfo 'Europe/London' LMT-1 day, 23:59:00 STD>"
      ]
     },
     "execution_count": 3,
     "metadata": {},
     "output_type": "execute_result"
    }
   ],
   "source": [
    "rng_tz = pd.date_range('3/6/2012 00:00', periods = 15, freq = 'D', tz = 'Europe/London')\n",
    "rng_tz.tz"
   ]
  },
  {
   "cell_type": "code",
   "execution_count": 7,
   "metadata": {},
   "outputs": [
    {
     "name": "stdout",
     "output_type": "stream",
     "text": [
      "439\n",
      "593\n",
      "{'Etc/GMT+11', 'US/East-Indiana', 'Asia/Ashkhabad', 'EST5EDT', 'Etc/GMT0', 'Etc/GMT+7', 'Etc/Zulu', 'Atlantic/Jan_Mayen', 'America/Cordoba', 'Africa/Timbuktu', 'CET', 'Europe/Tiraspol', 'Israel', 'Etc/GMT-12', 'NZ-CHAT', 'Etc/GMT', 'Chile/Continental', 'Etc/GMT-2', 'Egypt', 'Libya', 'Etc/GMT-7', 'America/Jujuy', 'Mexico/BajaSur', 'Asia/Harbin', 'MST7MDT', 'Asia/Katmandu', 'Etc/GMT+8', 'Asia/Dacca', 'Australia/South', 'Portugal', 'Europe/Nicosia', 'Canada/East-Saskatchewan', 'UCT', 'Australia/Yancowinna', 'Europe/Belfast', 'Mexico/General', 'US/Samoa', 'Asia/Saigon', 'Etc/GMT-13', 'Australia/Canberra', 'MET', 'America/Buenos_Aires', 'Canada/Yukon', 'PRC', 'US/Aleutian', 'America/Louisville', 'US/Indiana-Starke', 'NZ', 'Pacific/Yap', 'Etc/GMT+2', 'America/Mendoza', 'Etc/GMT-9', 'Etc/GMT+1', 'Etc/GMT+10', 'America/Ensenada', 'Universal', 'Singapore', 'Brazil/DeNoronha', 'Canada/Saskatchewan', 'Etc/GMT+4', 'Etc/Universal', 'Asia/Tel_Aviv', 'Pacific/Samoa', 'Australia/Queensland', 'Etc/GMT-8', 'Asia/Thimbu', 'Asia/Chungking', 'Australia/ACT', 'America/Atka', 'Australia/Tasmania', 'Etc/GMT-14', 'W-SU', 'Pacific/Truk', 'Etc/GMT-10', 'Pacific/Johnston', 'America/Argentina/ComodRivadavia', 'Etc/GMT-4', 'GMT+0', 'Etc/GMT+12', 'America/Shiprock', 'GB', 'Etc/GMT+9', 'Eire', 'EET', 'America/Virgin', 'Etc/UTC', 'Etc/Greenwich', 'Australia/LHI', 'MST', 'Kwajalein', 'Asia/Ujung_Pandang', 'America/Coral_Harbour', 'Australia/West', 'America/Indianapolis', 'Greenwich', 'Etc/UCT', 'Pacific/Ponape', 'Australia/NSW', 'Australia/Victoria', 'Brazil/West', 'CST6CDT', 'GMT0', 'GB-Eire', 'Atlantic/Faeroe', 'Australia/North', 'Etc/GMT+3', 'Asia/Chongqing', 'America/Porto_Acre', 'America/Fort_Wayne', 'Asia/Istanbul', 'Brazil/East', 'Jamaica', 'Etc/GMT-0', 'Iran', 'ROK', 'Asia/Calcutta', 'PST8PDT', 'Asia/Kashgar', 'Navajo', 'Turkey', 'Zulu', 'US/Pacific-New', 'Asia/Macao', 'Chile/EasterIsland', 'Brazil/Acre', 'Etc/GMT+6', 'EST', 'Etc/GMT-5', 'Africa/Asmera', 'Asia/Rangoon', 'Hongkong', 'America/Rosario', 'WET', 'ROC', 'America/Montreal', 'Etc/GMT+0', 'America/Catamarca', 'Etc/GMT-11', 'Japan', 'Etc/GMT-1', 'Asia/Ulan_Bator', 'Cuba', 'Etc/GMT+5', 'Poland', 'Etc/GMT-3', 'US/Michigan', 'HST', 'Mexico/BajaNorte', 'America/Santa_Isabel', 'Iceland', 'America/Knox_IN', 'Antarctica/South_Pole', 'Etc/GMT-6', 'GMT-0'}\n"
     ]
    }
   ],
   "source": [
    "from pytz import common_timezones, all_timezones\n",
    "print(len(common_timezones))\n",
    "print(len(all_timezones))\n",
    "print(set(all_timezones) - set(common_timezones))"
   ]
  },
  {
   "cell_type": "code",
   "execution_count": 5,
   "metadata": {},
   "outputs": [
    {
     "data": {
      "text/plain": [
       "Timestamp('2016-07-10 08:50:00')"
      ]
     },
     "execution_count": 5,
     "metadata": {},
     "output_type": "execute_result"
    }
   ],
   "source": [
    "# You can also localize a naive timestamp\n",
    "t_naive = pd.Timestamp('2016-07-10 08:50')\n",
    "t_naive"
   ]
  },
  {
   "cell_type": "code",
   "execution_count": 8,
   "metadata": {},
   "outputs": [
    {
     "data": {
      "text/plain": [
       "Timestamp('2016-07-10 08:50:00-0500', tz='US/Central')"
      ]
     },
     "execution_count": 8,
     "metadata": {},
     "output_type": "execute_result"
    }
   ],
   "source": [
    "t = t_naive.tz_localize(tz = 'US/Central')\n",
    "t"
   ]
  },
  {
   "cell_type": "code",
   "execution_count": 9,
   "metadata": {},
   "outputs": [
    {
     "data": {
      "text/plain": [
       "Timestamp('2016-07-10 22:50:00+0900', tz='Asia/Tokyo')"
      ]
     },
     "execution_count": 9,
     "metadata": {},
     "output_type": "execute_result"
    }
   ],
   "source": [
    "t.tz_convert('Asia/Tokyo')"
   ]
  },
  {
   "cell_type": "code",
   "execution_count": 10,
   "metadata": {},
   "outputs": [
    {
     "data": {
      "text/plain": [
       "2016-03-10 00:00:00-06:00    0\n",
       "2016-03-11 00:00:00-06:00    1\n",
       "2016-03-12 00:00:00-06:00    2\n",
       "2016-03-13 00:00:00-06:00    3\n",
       "2016-03-14 00:00:00-05:00    4\n",
       "2016-03-15 00:00:00-05:00    5\n",
       "2016-03-16 00:00:00-05:00    6\n",
       "2016-03-17 00:00:00-05:00    7\n",
       "2016-03-18 00:00:00-05:00    8\n",
       "2016-03-19 00:00:00-05:00    9\n",
       "Freq: D, dtype: int32"
      ]
     },
     "execution_count": 10,
     "metadata": {},
     "output_type": "execute_result"
    }
   ],
   "source": [
    "# how to handle daylight savings?\n",
    "rng = pd.date_range('2016-03-10', periods=10, tz='US/Central')\n",
    "ts = pd.Series(range(10), index=rng)\n",
    "ts"
   ]
  },
  {
   "cell_type": "code",
   "execution_count": 11,
   "metadata": {},
   "outputs": [
    {
     "data": {
      "text/plain": [
       "2016-03-10 00:00:00+00:00    0\n",
       "2016-03-11 00:00:00+00:00    1\n",
       "2016-03-12 00:00:00+00:00    2\n",
       "2016-03-13 00:00:00+00:00    3\n",
       "2016-03-14 00:00:00+00:00    4\n",
       "2016-03-15 00:00:00+00:00    5\n",
       "2016-03-16 00:00:00+00:00    6\n",
       "2016-03-17 00:00:00+00:00    7\n",
       "2016-03-18 00:00:00+00:00    8\n",
       "2016-03-19 00:00:00+00:00    9\n",
       "Freq: D, dtype: int32"
      ]
     },
     "execution_count": 11,
     "metadata": {},
     "output_type": "execute_result"
    }
   ],
   "source": [
    "rng = pd.date_range('2016-03-10', periods=10, tz='utc')\n",
    "ts = pd.Series(range(10), index=rng)\n",
    "ts"
   ]
  },
  {
   "cell_type": "code",
   "execution_count": 12,
   "metadata": {},
   "outputs": [
    {
     "data": {
      "text/plain": [
       "2016-03-09 18:00:00-06:00    0\n",
       "2016-03-10 18:00:00-06:00    1\n",
       "2016-03-11 18:00:00-06:00    2\n",
       "2016-03-12 18:00:00-06:00    3\n",
       "2016-03-13 19:00:00-05:00    4\n",
       "2016-03-14 19:00:00-05:00    5\n",
       "2016-03-15 19:00:00-05:00    6\n",
       "2016-03-16 19:00:00-05:00    7\n",
       "2016-03-17 19:00:00-05:00    8\n",
       "2016-03-18 19:00:00-05:00    9\n",
       "Freq: D, dtype: int32"
      ]
     },
     "execution_count": 12,
     "metadata": {},
     "output_type": "execute_result"
    }
   ],
   "source": [
    "ts.tz_convert('US/Central')"
   ]
  },
  {
   "cell_type": "code",
   "execution_count": 13,
   "metadata": {},
   "outputs": [
    {
     "data": {
      "text/plain": [
       "DatetimeIndex(['2016-03-12 22:00:00-05:00', '2016-03-12 23:00:00-05:00',\n",
       "               '2016-03-13 00:00:00-05:00', '2016-03-13 01:00:00-05:00',\n",
       "               '2016-03-13 03:00:00-04:00', '2016-03-13 04:00:00-04:00',\n",
       "               '2016-03-13 05:00:00-04:00', '2016-03-13 06:00:00-04:00',\n",
       "               '2016-03-13 07:00:00-04:00', '2016-03-13 08:00:00-04:00',\n",
       "               '2016-03-13 09:00:00-04:00', '2016-03-13 10:00:00-04:00'],\n",
       "              dtype='datetime64[ns, US/Eastern]', freq='H')"
      ]
     },
     "execution_count": 13,
     "metadata": {},
     "output_type": "execute_result"
    }
   ],
   "source": [
    "pd.date_range('03-12-2016 22:00', periods = 12, freq = 'H', tz = 'US/Eastern')"
   ]
  },
  {
   "cell_type": "code",
   "execution_count": 18,
   "metadata": {},
   "outputs": [
    {
     "data": {
      "text/plain": [
       "Timestamp('2016-03-13 02:00:00+0000', tz='UTC')"
      ]
     },
     "execution_count": 18,
     "metadata": {},
     "output_type": "execute_result"
    }
   ],
   "source": [
    "# May autocorrect an error rather than giving you a non-existent time error\n",
    "pd.Timestamp('2016-03-13 02:00', tz = 'utc')"
   ]
  },
  {
   "cell_type": "code",
   "execution_count": null,
   "metadata": {
    "collapsed": true
   },
   "outputs": [],
   "source": []
  }
 ],
 "metadata": {
  "kernelspec": {
   "display_name": "Python 3",
   "language": "python",
   "name": "python3"
  },
  "language_info": {
   "codemirror_mode": {
    "name": "ipython",
    "version": 3
   },
   "file_extension": ".py",
   "mimetype": "text/x-python",
   "name": "python",
   "nbconvert_exporter": "python",
   "pygments_lexer": "ipython3",
   "version": "3.6.1"
  },
  "widgets": {
   "state": {},
   "version": "1.1.1"
  }
 },
 "nbformat": 4,
 "nbformat_minor": 1
}
