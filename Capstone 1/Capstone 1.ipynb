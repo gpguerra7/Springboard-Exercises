{
 "cells": [
  {
   "cell_type": "markdown",
   "metadata": {},
   "source": [
    "# European Football Statistics"
   ]
  },
  {
   "cell_type": "code",
   "execution_count": 526,
   "metadata": {
    "collapsed": true
   },
   "outputs": [],
   "source": [
    "import pandas as pd\n",
    "import numpy as np\n",
    "import requests\n",
    "import http.client\n",
    "import json\n",
    "from pandas.io.json import json_normalize\n",
    "import matplotlib.pyplot as plt\n",
    "import seaborn as sns\n",
    "from scipy import stats\n",
    "\n",
    "key = '80c2f8ba62244830a2eda578176435d9'"
   ]
  },
  {
   "cell_type": "code",
   "execution_count": 14,
   "metadata": {
    "collapsed": true
   },
   "outputs": [],
   "source": [
    "#Import Excel file with Club Market Values\n",
    "\n",
    "excel = 'C:/Users/USER/Documents/Springboard/Capstone 1/club_values.xlsx'\n",
    "sheets = [426, 430, 434, 436, 438]\n",
    "\n",
    "columns = [\"Clubs\", \"Unnamed: 1\", \"Squad\", \"Age\", \"Foreign players\", \"Total market value\", \"Market value\"]\n",
    "club_values = pd.DataFrame(columns=columns)\n",
    "for i in sheets:\n",
    "    df = pd.read_excel(open(excel,'rb'), sheetname= str(i))\n",
    "    df = df.iloc[1:,:]\n",
    "    df.columns = [\"Clubs\", \"Unnamed: 1\", \"Squad\", \"Age\", \"Foreign players\", \"Total market value\", \"Market value\"]\n",
    "    club_values =club_values.append(df, ignore_index=True)\n",
    "\n",
    "#Standardize Club names   \n",
    "\n",
    "club_values.loc[24,\"Clubs\"]=\"Red Bull Leipzig\"\n",
    "club_values.loc[20,\"Clubs\"]=\"FC Bayern München\"\n",
    "club_values.loc[25,\"Clubs\"]=\"Bor. Mönchengladbach\"\n",
    "club_values.loc[22,\"Clubs\"]=\"Bayer Leverkusen\"\n",
    "club_values.loc[30,\"Clubs\"]=\"Werder Bremen\"\n",
    "club_values.loc[32,\"Clubs\"]=\"1. FSV Mainz \"\n",
    "club_values.loc[42,\"Clubs\"]=\"Olympique de Marseille\"\n",
    "club_values.loc[46,\"Clubs\"]=\"OSC Lille\"\n",
    "club_values.loc[49,\"Clubs\"]=\"Montpellier Hérault SC\"\n",
    "club_values.loc[44,\"Clubs\"]=\"FC Girondins de Bordeaux\"\n",
    "club_values.loc[56,\"Clubs\"]=\"Dijon FCO\"\n",
    "club_values.loc[45,\"Clubs\"]=\"Toulouse FC\"\n",
    "club_values.loc[57,\"Clubs\"]=\"AS Nancy\"\n",
    "club_values.loc[51,\"Clubs\"]=\"Angers SCO\"\n",
    "club_values.loc[64,\"Clubs\"]=\"Athletic Club\"\n",
    "club_values.loc[75,\"Clubs\"]=\"CD Leganes\"\n",
    "club_values.loc[60,\"Clubs\"]=\"Club Atlético de Madrid\"\n",
    "club_values.loc[70,\"Clubs\"]=\"Real Betis\"\n",
    "club_values.loc[71,\"Clubs\"]=\"RCD Espanyol\"\n",
    "club_values.loc[73,\"Clubs\"]=\"RC Deportivo La Coruna\"\n",
    "club_values.loc[97,\"Clubs\"]=\"US Cittá di Palermo\"\n",
    "club_values.loc[78,\"Clubs\"]=\"Juventus Turin\"\n",
    "club_values.loc[91,\"Clubs\"]=\"Bologna FC\"\n",
    "club_values.loc[94,\"Clubs\"]=\"Pescara Calcio\"\n",
    "club_values.loc[93,\"Clubs\"]=\"Empoli FC\"\n",
    "club_values.loc[81,\"Clubs\"]=\"FC Internazionale Milano\""
   ]
  },
  {
   "cell_type": "code",
   "execution_count": 19,
   "metadata": {
    "collapsed": true
   },
   "outputs": [],
   "source": [
    "#Load League Data From: http://api.football-data.org\n",
    "\n",
    "connection = http.client.HTTPConnection('api.football-data.org')\n",
    "headers = { 'X-Auth-Token': key, 'X-Response-Control': 'minified' }\n",
    "connection.request('GET', '/v1/competitions/?season=2016', None, headers )\n",
    "response = json.loads(connection.getresponse().read().decode())\n",
    "\n",
    "#Create data frame of top 5 most important leagues\n",
    "\n",
    "top_leagues_df = pd.DataFrame(response)\n",
    "top_leagues_df = top_leagues_df[top_leagues_df['league'].isin(['BL1', 'FL1', 'PL', 'PD', 'SA'])]\n",
    "top_leagues_df.rename(columns={'caption':'name'}, inplace=True)\n",
    "top_leagues_df = top_leagues_df.reset_index()\n",
    "top_leagues_df = top_leagues_df[['id', 'name', 'league', 'numberOfTeams']]\n",
    "top_leagues_df['name'] = top_leagues_df['name'].map(lambda x: str(x)[:-8])\n",
    "top_leagues_df.columns = ['league_id', 'league_name', 'league', 'number_of_eams']\n",
    "\n",
    "countries = ['United Kingdom', 'Germany', 'France', 'Spain', 'Italy']\n",
    "top_leagues_df['country'] = countries"
   ]
  },
  {
   "cell_type": "code",
   "execution_count": 21,
   "metadata": {
    "collapsed": true
   },
   "outputs": [],
   "source": [
    "#Load Team Data From: http://api.football-data.org\n",
    "\n",
    "league_list = top_leagues_df['league_id']\n",
    "columns = ['crestUrl', 'id', 'name', 'shortName', 'squadMarketValue', 'league_id']\n",
    "teams_df = pd.DataFrame(columns=columns)\n",
    "teams_df\n",
    "id = 0\n",
    "for i in league_list:\n",
    "    connection = http.client.HTTPConnection('api.football-data.org')\n",
    "    headers = { 'X-Auth-Token': key, 'X-Response-Control': 'minified' }\n",
    "    connection.request('GET', '/v1/competitions/'+str(i)+'/teams', None, headers )\n",
    "    response = json.loads(connection.getresponse().read().decode())\n",
    "    data_df = pd.DataFrame(response)\n",
    "    data_df = data_df['teams']\n",
    "    teams_list=[]\n",
    "    for i in data_df:\n",
    "        teams_list.append(i)\n",
    "    data_df = pd.DataFrame.from_dict(teams_list)\n",
    "    data_df['league_id'] = league_list[id]\n",
    "    teams_df = teams_df.append(data_df, ignore_index=True)\n",
    "    id+=1\n",
    "teams_df = teams_df.sort_values('id')"
   ]
  },
  {
   "cell_type": "code",
   "execution_count": 33,
   "metadata": {
    "collapsed": true
   },
   "outputs": [],
   "source": [
    "#loads teams' standing at end of 2016/2017 season from: http://api.football-data.org\n",
    "\n",
    "columns = [\"Home Draws\", \"Home Goals\", \"Home Goals Against\", \"Home Losses\", \"Home Wins\"]\n",
    "standings_df = pd.DataFrame(columns=columns)\n",
    "league_list = list(top_leagues_df['league_id'])\n",
    "id = 0\n",
    "for i in league_list:\n",
    "    url='http://api.football-data.org/v1/competitions/'+str(i)+'/leagueTable/?apikey=80c2f8ba62244830a2eda578176435d9'\n",
    "    r = requests.get(url)\n",
    "    json_data = r.json()\n",
    "    json_data = json_data['standing']\n",
    "    for i in json_data:\n",
    "        data={}\n",
    "        for k, v in i.items():\n",
    "            if k not in ['home', 'away']:\n",
    "                data[k] = v\n",
    "        data_df =pd.DataFrame.from_dict(data)\n",
    "        data_df = data_df.reset_index(drop=True)\n",
    "        venue={}\n",
    "        for k, v in i.items():\n",
    "            if k in ['home', 'away']:\n",
    "                venue[k] = v\n",
    "        df =pd.DataFrame.from_dict(venue)\n",
    "        df =df.transpose()\n",
    "        away_df =pd.DataFrame(df.iloc[0,:])\n",
    "        away_df =away_df.transpose()\n",
    "        away_df.columns = [\"Away Draws\", \"Away Goals\", \"Away Goals Against\", \"Away Losses\", \"Away Wins\"]\n",
    "        away_df = away_df.reset_index(drop=True)\n",
    "        home_df =pd.DataFrame(df.iloc[1,:])\n",
    "        home_df =home_df.transpose()\n",
    "        home_df.columns = [\"Home Draws\", \"Home Goals\", \"Home Goals Against\", \"Home Losses\", \"Home Wins\"]\n",
    "        home_df = home_df.reset_index(drop=True)\n",
    "        venue_df = pd.concat([home_df, away_df], axis=1)\n",
    "        team_stats_df = pd.concat([data_df, venue_df], axis=1)\n",
    "        team_stats_df = team_stats_df.set_index('_links')\n",
    "        team_stats_df['league_id'] = league_list[id]\n",
    "        standings_df = standings_df.append(team_stats_df, ignore_index=True)\n",
    "    id += 1"
   ]
  },
  {
   "cell_type": "code",
   "execution_count": 25,
   "metadata": {
    "collapsed": true
   },
   "outputs": [],
   "source": [
    "# Load Player Data From: http://api.football-data.org\n",
    "\n",
    "#Creates Data Frame for half of players\n",
    "\n",
    "columns = ['id', 'name', 'dateOfBirth', 'position', 'nationality', 'marketValue', 'jerseyNumber', 'contractUntil']\n",
    "players_df1 = pd.DataFrame(columns=columns)\n",
    "teams_list = list(teams_df['id'])\n",
    "teams_list = teams_list[0:49]\n",
    "id = 0\n",
    "for i in teams_list:\n",
    "    connection = http.client.HTTPConnection('api.football-data.org')\n",
    "    headers = { 'X-Auth-Token': key, 'X-Response-Control': 'minified' }\n",
    "    connection.request('GET', '/v1/teams/'+str(i)+'/players', None, headers )\n",
    "    response = json.loads(connection.getresponse().read().decode())     \n",
    "    data_df = pd.DataFrame(response)\n",
    "    data_df = data_df['players']\n",
    "    players_list=[]\n",
    "    for i in data_df:\n",
    "        players_list.append(i)\n",
    "    data_df = pd.DataFrame.from_dict(players_list)\n",
    "    data_df['team_id'] = teams_list[id]\n",
    "    players_df1 = players_df1.append(data_df, ignore_index=True)\n",
    "    id+=1"
   ]
  },
  {
   "cell_type": "code",
   "execution_count": 27,
   "metadata": {
    "collapsed": true
   },
   "outputs": [],
   "source": [
    "#Creates Data Frame for second half of players    \n",
    "    \n",
    "columns = ['id', 'name', 'dateOfBirth', 'position', 'nationality', 'marketValue', 'jerseyNumber', 'contractUntil']\n",
    "players_df2 = pd.DataFrame(columns=columns)\n",
    "teams_list = list(teams_df['id'])\n",
    "teams_list = teams_list[49:]\n",
    "id = 0\n",
    "for i in teams_list:\n",
    "    connection = http.client.HTTPConnection('api.football-data.org')\n",
    "    headers = { 'X-Auth-Token': key, 'X-Response-Control': 'minified' }\n",
    "    connection.request('GET', '/v1/teams/'+str(i)+'/players', None, headers )\n",
    "    response = json.loads(connection.getresponse().read().decode())     \n",
    "    data_df = pd.DataFrame(response)\n",
    "    data_df = data_df['players']\n",
    "    players_list=[]\n",
    "    for i in data_df:\n",
    "        players_list.append(i)\n",
    "    data_df = pd.DataFrame.from_dict(players_list)\n",
    "    data_df['team_id'] = teams_list[id]\n",
    "    players_df2 = players_df2.append(data_df, ignore_index=True)\n",
    "    id+=1"
   ]
  },
  {
   "cell_type": "code",
   "execution_count": 28,
   "metadata": {
    "collapsed": true
   },
   "outputs": [],
   "source": [
    "#Merge players data frames into one\n",
    "players_df = players_df1.append(players_df2, ignore_index=True)"
   ]
  },
  {
   "cell_type": "code",
   "execution_count": 31,
   "metadata": {},
   "outputs": [
    {
     "name": "stderr",
     "output_type": "stream",
     "text": [
      "C:\\Users\\USER\\Anaconda3\\lib\\site-packages\\pandas\\core\\indexing.py:517: SettingWithCopyWarning: \n",
      "A value is trying to be set on a copy of a slice from a DataFrame.\n",
      "Try using .loc[row_indexer,col_indexer] = value instead\n",
      "\n",
      "See the caveats in the documentation: http://pandas.pydata.org/pandas-docs/stable/indexing.html#indexing-view-versus-copy\n",
      "  self.obj[item] = s\n"
     ]
    }
   ],
   "source": [
    "#Renames, reorders and changes columns data types for leagues data frame\n",
    "\n",
    "Top_leagues_df = top_leagues_df[['league_id', 'league_name', 'number_of_eams', 'country']]\n",
    "Top_leagues_df.loc[:,'league_id'], Top_leagues_df.loc[:,'number_of_eams'] = Top_leagues_df.loc[:,'league_id'].astype(int), Top_leagues_df.loc[:,'number_of_eams'].astype(int)\n",
    "Top_leagues_df.columns = [\"League ID\", \"League Name\", \"Number of Teams\", \"Country\"]"
   ]
  },
  {
   "cell_type": "code",
   "execution_count": 507,
   "metadata": {
    "scrolled": true
   },
   "outputs": [
    {
     "name": "stderr",
     "output_type": "stream",
     "text": [
      "C:\\Users\\USER\\Anaconda3\\lib\\site-packages\\pandas\\core\\indexing.py:601: SettingWithCopyWarning:\n",
      "\n",
      "\n",
      "A value is trying to be set on a copy of a slice from a DataFrame.\n",
      "Try using .loc[row_indexer,col_indexer] = value instead\n",
      "\n",
      "See the caveats in the documentation: http://pandas.pydata.org/pandas-docs/stable/indexing.html#indexing-view-versus-copy\n",
      "\n",
      "C:\\Users\\USER\\Anaconda3\\lib\\site-packages\\pandas\\core\\indexing.py:517: SettingWithCopyWarning:\n",
      "\n",
      "\n",
      "A value is trying to be set on a copy of a slice from a DataFrame.\n",
      "Try using .loc[row_indexer,col_indexer] = value instead\n",
      "\n",
      "See the caveats in the documentation: http://pandas.pydata.org/pandas-docs/stable/indexing.html#indexing-view-versus-copy\n",
      "\n"
     ]
    }
   ],
   "source": [
    "#Renames, reorders and changes columns data types for teams data frame\n",
    "\n",
    "Teams_df = teams_df[['id', 'name', 'squadMarketValue', 'league_id']]\n",
    "Teams_df.loc[:,'id'], Teams_df.loc[:,'league_id'] = Teams_df.loc[:,'id'].astype(int), Teams_df.loc[:,'league_id'].astype(int)\n",
    "Teams_df.columns = [\"Team ID\", \"Team Name\", \"Team Value Mill. €\", \"League ID\"]\n",
    "Teams_df = pd.merge(Teams_df, Top_leagues_df, on= \"League ID\")\n",
    "Teams_df = Teams_df.drop(\"Number of Teams\", 1)\n",
    "Teams_df = Teams_df.sort_values(\"Team Name\")\n",
    "Teams_df = Teams_df.sort_values(\"League Name\")\n",
    "Teams_df =Teams_df.reset_index(drop=True)\n",
    "\n",
    "#Adds market value from club values data frame\n",
    "\n",
    "for x in club_values.itertuples():\n",
    "     for i in Teams_df.itertuples():\n",
    "        if x[1] in i[2]:\n",
    "            Teams_df.set_value(i[0], \"Team Value Mill. €\", x[6])\n",
    "\n",
    "Teams_df['Team Value Mill. €'].replace(regex=True,inplace=True,to_replace=r'\\D',value=r'')\n",
    "Teams_df[['Team Value Mill. €']] = Teams_df[['Team Value Mill. €']].astype(int)\n",
    "Teams_df[\"Team Value Mill. €\"] = Teams_df[\"Team Value Mill. €\"]/100"
   ]
  },
  {
   "cell_type": "code",
   "execution_count": 508,
   "metadata": {
    "collapsed": true
   },
   "outputs": [],
   "source": [
    "#Renames, reorders standings data frame\n",
    "\n",
    "Standings_df = standings_df[['position','teamName', 'wins', 'draws', 'losses', 'goals',\n",
    "                             'goalsAgainst', 'goalDifference', 'points', 'Home Wins', 'Home Losses',\n",
    "                             'Home Draws', 'Home Goals', 'Home Goals Against', 'Away Wins',\n",
    "                             'Away Draws', 'Away Losses','Away Goals', 'Away Goals Against',\n",
    "                             'crestURI']]\n",
    "Standings_df.columns=  [\"Position\",\"Team Name\", \"Wins\", \"Draws\", \"Losses\", \"Goals\",\n",
    "                        \"Goals Against\", \"Goal Difference\", \"Points\", \"Home Wins\", \"Home Losses\",\n",
    "                        \"Home Draws\", \"Home Goals\", \"Home Goals Against\", \"Away Wins\",\n",
    "                        \"Away Draws\", \"Away Losses\",\"Away Goals\", \"Away Goals Against\",\n",
    "                         \"Crest\"]"
   ]
  },
  {
   "cell_type": "code",
   "execution_count": 509,
   "metadata": {
    "collapsed": true
   },
   "outputs": [],
   "source": [
    "#Renames, reorders players data frame\n",
    "Players_df = players_df[['id', 'name', 'position', 'marketValue', 'dateOfBirth',\n",
    "                         'contractUntil', 'nationality', 'team_id', 'jerseyNumber']]\n",
    "Players_df.loc[:,'id'], Players_df.loc[:,'team_id'] = Players_df.loc[:,'id'].astype(int), Players_df.loc[:,'team_id'].astype(int)\n",
    "Players_df.columns = [\"Player Id\", \"Name\", \"Position\", \"Market Value\", \"Date of Birth\",\n",
    "                      \"Contract Until\", \"Nationality\", \"Team ID\", \"Jersey Number\"]\n",
    "Players_df = pd.merge(Players_df, Teams_df, on= \"Team ID\")\n",
    "Players_df = Players_df.drop([\"Country\", \"League ID\", \"Team Value Mill. €\"], 1)\n",
    "Players_df = Players_df.sort_values(\"Name\")\n",
    "Players_df = Players_df.sort_values(\"League Name\")"
   ]
  },
  {
   "cell_type": "code",
   "execution_count": 510,
   "metadata": {
    "collapsed": true
   },
   "outputs": [],
   "source": [
    "#Creates Team Stat Summary\n",
    "\n",
    "Summary_df = pd.merge(Standings_df, Teams_df, on= \"Team Name\")\n",
    "Summary_df = Summary_df.drop(['Home Wins',\n",
    "       'Home Losses', 'Home Draws', 'Home Goals', 'Home Goals Against',\n",
    "       'Away Wins', 'Away Draws', 'Away Losses', 'Away Goals',\n",
    "       'Away Goals Against', 'Crest', 'Team ID','League ID', 'Country'], 1)"
   ]
  },
  {
   "cell_type": "markdown",
   "metadata": {},
   "source": [
    "# Output Tables"
   ]
  },
  {
   "cell_type": "markdown",
   "metadata": {
    "collapsed": true
   },
   "source": [
    "Top Leagues Table&nbsp;&nbsp;&nbsp;&nbsp;&nbsp;&nbsp;\n",
    "Shape : 5 x 4\n",
    "\n"
   ]
  },
  {
   "cell_type": "code",
   "execution_count": 511,
   "metadata": {},
   "outputs": [
    {
     "data": {
      "text/html": [
       "<div>\n",
       "<style>\n",
       "    .dataframe thead tr:only-child th {\n",
       "        text-align: right;\n",
       "    }\n",
       "\n",
       "    .dataframe thead th {\n",
       "        text-align: left;\n",
       "    }\n",
       "\n",
       "    .dataframe tbody tr th {\n",
       "        vertical-align: top;\n",
       "    }\n",
       "</style>\n",
       "<table border=\"1\" class=\"dataframe\">\n",
       "  <thead>\n",
       "    <tr style=\"text-align: right;\">\n",
       "      <th></th>\n",
       "      <th>League ID</th>\n",
       "      <th>League Name</th>\n",
       "      <th>Number of Teams</th>\n",
       "      <th>Country</th>\n",
       "    </tr>\n",
       "  </thead>\n",
       "  <tbody>\n",
       "    <tr>\n",
       "      <th>0</th>\n",
       "      <td>426</td>\n",
       "      <td>Premier League</td>\n",
       "      <td>20</td>\n",
       "      <td>United Kingdom</td>\n",
       "    </tr>\n",
       "    <tr>\n",
       "      <th>1</th>\n",
       "      <td>430</td>\n",
       "      <td>1. Bundesliga</td>\n",
       "      <td>18</td>\n",
       "      <td>Germany</td>\n",
       "    </tr>\n",
       "    <tr>\n",
       "      <th>2</th>\n",
       "      <td>434</td>\n",
       "      <td>Ligue 1</td>\n",
       "      <td>20</td>\n",
       "      <td>France</td>\n",
       "    </tr>\n",
       "    <tr>\n",
       "      <th>3</th>\n",
       "      <td>436</td>\n",
       "      <td>Primera Division</td>\n",
       "      <td>20</td>\n",
       "      <td>Spain</td>\n",
       "    </tr>\n",
       "    <tr>\n",
       "      <th>4</th>\n",
       "      <td>438</td>\n",
       "      <td>Serie A</td>\n",
       "      <td>20</td>\n",
       "      <td>Italy</td>\n",
       "    </tr>\n",
       "  </tbody>\n",
       "</table>\n",
       "</div>"
      ],
      "text/plain": [
       "   League ID       League Name  Number of Teams         Country\n",
       "0        426    Premier League               20  United Kingdom\n",
       "1        430     1. Bundesliga               18         Germany\n",
       "2        434           Ligue 1               20          France\n",
       "3        436  Primera Division               20           Spain\n",
       "4        438           Serie A               20           Italy"
      ]
     },
     "execution_count": 511,
     "metadata": {},
     "output_type": "execute_result"
    }
   ],
   "source": [
    "Top_leagues_df.head(5)"
   ]
  },
  {
   "cell_type": "markdown",
   "metadata": {},
   "source": [
    "."
   ]
  },
  {
   "cell_type": "markdown",
   "metadata": {},
   "source": [
    "Teams Table&nbsp;&nbsp;&nbsp;&nbsp;&nbsp;&nbsp;\n",
    "Shape : 98 x 6\n"
   ]
  },
  {
   "cell_type": "code",
   "execution_count": 512,
   "metadata": {},
   "outputs": [
    {
     "data": {
      "text/html": [
       "<div>\n",
       "<style>\n",
       "    .dataframe thead tr:only-child th {\n",
       "        text-align: right;\n",
       "    }\n",
       "\n",
       "    .dataframe thead th {\n",
       "        text-align: left;\n",
       "    }\n",
       "\n",
       "    .dataframe tbody tr th {\n",
       "        vertical-align: top;\n",
       "    }\n",
       "</style>\n",
       "<table border=\"1\" class=\"dataframe\">\n",
       "  <thead>\n",
       "    <tr style=\"text-align: right;\">\n",
       "      <th></th>\n",
       "      <th>Team ID</th>\n",
       "      <th>Team Name</th>\n",
       "      <th>Team Value Mill. €</th>\n",
       "      <th>League ID</th>\n",
       "      <th>League Name</th>\n",
       "      <th>Country</th>\n",
       "    </tr>\n",
       "  </thead>\n",
       "  <tbody>\n",
       "    <tr>\n",
       "      <th>0</th>\n",
       "      <td>1</td>\n",
       "      <td>1. FC Köln</td>\n",
       "      <td>112.85</td>\n",
       "      <td>430</td>\n",
       "      <td>1. Bundesliga</td>\n",
       "      <td>Germany</td>\n",
       "    </tr>\n",
       "    <tr>\n",
       "      <th>1</th>\n",
       "      <td>721</td>\n",
       "      <td>Red Bull Leipzig</td>\n",
       "      <td>163.38</td>\n",
       "      <td>430</td>\n",
       "      <td>1. Bundesliga</td>\n",
       "      <td>Germany</td>\n",
       "    </tr>\n",
       "    <tr>\n",
       "      <th>2</th>\n",
       "      <td>17</td>\n",
       "      <td>SC Freiburg</td>\n",
       "      <td>81.85</td>\n",
       "      <td>430</td>\n",
       "      <td>1. Bundesliga</td>\n",
       "      <td>Germany</td>\n",
       "    </tr>\n",
       "    <tr>\n",
       "      <th>3</th>\n",
       "      <td>16</td>\n",
       "      <td>FC Augsburg</td>\n",
       "      <td>58.73</td>\n",
       "      <td>430</td>\n",
       "      <td>1. Bundesliga</td>\n",
       "      <td>Germany</td>\n",
       "    </tr>\n",
       "    <tr>\n",
       "      <th>4</th>\n",
       "      <td>55</td>\n",
       "      <td>SV Darmstadt 98</td>\n",
       "      <td>20.40</td>\n",
       "      <td>430</td>\n",
       "      <td>1. Bundesliga</td>\n",
       "      <td>Germany</td>\n",
       "    </tr>\n",
       "  </tbody>\n",
       "</table>\n",
       "</div>"
      ],
      "text/plain": [
       "   Team ID         Team Name  Team Value Mill. €  League ID    League Name  \\\n",
       "0        1        1. FC Köln              112.85        430  1. Bundesliga   \n",
       "1      721  Red Bull Leipzig              163.38        430  1. Bundesliga   \n",
       "2       17       SC Freiburg               81.85        430  1. Bundesliga   \n",
       "3       16       FC Augsburg               58.73        430  1. Bundesliga   \n",
       "4       55   SV Darmstadt 98               20.40        430  1. Bundesliga   \n",
       "\n",
       "   Country  \n",
       "0  Germany  \n",
       "1  Germany  \n",
       "2  Germany  \n",
       "3  Germany  \n",
       "4  Germany  "
      ]
     },
     "execution_count": 512,
     "metadata": {},
     "output_type": "execute_result"
    }
   ],
   "source": [
    "Teams_df.head(5)"
   ]
  },
  {
   "cell_type": "markdown",
   "metadata": {},
   "source": [
    "."
   ]
  },
  {
   "cell_type": "markdown",
   "metadata": {
    "collapsed": true
   },
   "source": [
    "Standings Leagues Table&nbsp;&nbsp;&nbsp;&nbsp;&nbsp;&nbsp;\n",
    "Shape : 98 x 22\n",
    "\n",
    "Columns ='Away Draws', 'Away Goals', 'Away Goals Against', 'Away Losses',\n",
    "       'Away Wins', 'Home Draws', 'Home Goals', 'Home Goals Against',\n",
    "       'Home Losses', 'Home Wins', 'crestURI', 'draws', 'goalDifference',\n",
    "       'goals', 'goalsAgainst', 'league_id', 'losses', 'playedGames', 'points',\n",
    "       'position', 'teamName', 'wins'\n"
   ]
  },
  {
   "cell_type": "code",
   "execution_count": 513,
   "metadata": {},
   "outputs": [
    {
     "data": {
      "text/html": [
       "<div>\n",
       "<style>\n",
       "    .dataframe thead tr:only-child th {\n",
       "        text-align: right;\n",
       "    }\n",
       "\n",
       "    .dataframe thead th {\n",
       "        text-align: left;\n",
       "    }\n",
       "\n",
       "    .dataframe tbody tr th {\n",
       "        vertical-align: top;\n",
       "    }\n",
       "</style>\n",
       "<table border=\"1\" class=\"dataframe\">\n",
       "  <thead>\n",
       "    <tr style=\"text-align: right;\">\n",
       "      <th></th>\n",
       "      <th>Position</th>\n",
       "      <th>Team Name</th>\n",
       "      <th>Wins</th>\n",
       "      <th>Draws</th>\n",
       "      <th>Losses</th>\n",
       "      <th>Goals</th>\n",
       "      <th>Goals Against</th>\n",
       "      <th>Goal Difference</th>\n",
       "      <th>Points</th>\n",
       "      <th>Home Wins</th>\n",
       "      <th>Home Losses</th>\n",
       "      <th>Home Draws</th>\n",
       "      <th>Home Goals</th>\n",
       "      <th>Home Goals Against</th>\n",
       "      <th>Away Wins</th>\n",
       "      <th>Away Draws</th>\n",
       "      <th>Away Losses</th>\n",
       "      <th>Away Goals</th>\n",
       "      <th>Away Goals Against</th>\n",
       "      <th>Crest</th>\n",
       "    </tr>\n",
       "  </thead>\n",
       "  <tbody>\n",
       "    <tr>\n",
       "      <th>0</th>\n",
       "      <td>1.0</td>\n",
       "      <td>Chelsea FC</td>\n",
       "      <td>27.0</td>\n",
       "      <td>3.0</td>\n",
       "      <td>5.0</td>\n",
       "      <td>76.0</td>\n",
       "      <td>32.0</td>\n",
       "      <td>44.0</td>\n",
       "      <td>84.0</td>\n",
       "      <td>15</td>\n",
       "      <td>2</td>\n",
       "      <td>0</td>\n",
       "      <td>47</td>\n",
       "      <td>16</td>\n",
       "      <td>12.0</td>\n",
       "      <td>3.0</td>\n",
       "      <td>3.0</td>\n",
       "      <td>29.0</td>\n",
       "      <td>16.0</td>\n",
       "      <td>http://upload.wikimedia.org/wikipedia/de/5/5c/...</td>\n",
       "    </tr>\n",
       "    <tr>\n",
       "      <th>1</th>\n",
       "      <td>2.0</td>\n",
       "      <td>Tottenham Hotspur FC</td>\n",
       "      <td>24.0</td>\n",
       "      <td>8.0</td>\n",
       "      <td>3.0</td>\n",
       "      <td>77.0</td>\n",
       "      <td>23.0</td>\n",
       "      <td>54.0</td>\n",
       "      <td>80.0</td>\n",
       "      <td>16</td>\n",
       "      <td>0</td>\n",
       "      <td>2</td>\n",
       "      <td>45</td>\n",
       "      <td>8</td>\n",
       "      <td>8.0</td>\n",
       "      <td>6.0</td>\n",
       "      <td>3.0</td>\n",
       "      <td>32.0</td>\n",
       "      <td>15.0</td>\n",
       "      <td>http://upload.wikimedia.org/wikipedia/de/b/b4/...</td>\n",
       "    </tr>\n",
       "    <tr>\n",
       "      <th>2</th>\n",
       "      <td>3.0</td>\n",
       "      <td>Manchester City FC</td>\n",
       "      <td>20.0</td>\n",
       "      <td>9.0</td>\n",
       "      <td>6.0</td>\n",
       "      <td>68.0</td>\n",
       "      <td>38.0</td>\n",
       "      <td>30.0</td>\n",
       "      <td>69.0</td>\n",
       "      <td>9</td>\n",
       "      <td>1</td>\n",
       "      <td>7</td>\n",
       "      <td>30</td>\n",
       "      <td>16</td>\n",
       "      <td>11.0</td>\n",
       "      <td>2.0</td>\n",
       "      <td>5.0</td>\n",
       "      <td>38.0</td>\n",
       "      <td>22.0</td>\n",
       "      <td>https://upload.wikimedia.org/wikipedia/en/e/eb...</td>\n",
       "    </tr>\n",
       "    <tr>\n",
       "      <th>3</th>\n",
       "      <td>4.0</td>\n",
       "      <td>Liverpool FC</td>\n",
       "      <td>20.0</td>\n",
       "      <td>9.0</td>\n",
       "      <td>6.0</td>\n",
       "      <td>71.0</td>\n",
       "      <td>42.0</td>\n",
       "      <td>29.0</td>\n",
       "      <td>69.0</td>\n",
       "      <td>11</td>\n",
       "      <td>2</td>\n",
       "      <td>4</td>\n",
       "      <td>42</td>\n",
       "      <td>18</td>\n",
       "      <td>9.0</td>\n",
       "      <td>5.0</td>\n",
       "      <td>4.0</td>\n",
       "      <td>29.0</td>\n",
       "      <td>24.0</td>\n",
       "      <td>http://upload.wikimedia.org/wikipedia/de/0/0a/...</td>\n",
       "    </tr>\n",
       "    <tr>\n",
       "      <th>4</th>\n",
       "      <td>5.0</td>\n",
       "      <td>Arsenal FC</td>\n",
       "      <td>20.0</td>\n",
       "      <td>6.0</td>\n",
       "      <td>9.0</td>\n",
       "      <td>68.0</td>\n",
       "      <td>42.0</td>\n",
       "      <td>26.0</td>\n",
       "      <td>66.0</td>\n",
       "      <td>12</td>\n",
       "      <td>2</td>\n",
       "      <td>3</td>\n",
       "      <td>34</td>\n",
       "      <td>15</td>\n",
       "      <td>8.0</td>\n",
       "      <td>3.0</td>\n",
       "      <td>7.0</td>\n",
       "      <td>34.0</td>\n",
       "      <td>27.0</td>\n",
       "      <td>http://upload.wikimedia.org/wikipedia/en/5/53/...</td>\n",
       "    </tr>\n",
       "  </tbody>\n",
       "</table>\n",
       "</div>"
      ],
      "text/plain": [
       "   Position             Team Name  Wins  Draws  Losses  Goals  Goals Against  \\\n",
       "0       1.0            Chelsea FC  27.0    3.0     5.0   76.0           32.0   \n",
       "1       2.0  Tottenham Hotspur FC  24.0    8.0     3.0   77.0           23.0   \n",
       "2       3.0    Manchester City FC  20.0    9.0     6.0   68.0           38.0   \n",
       "3       4.0          Liverpool FC  20.0    9.0     6.0   71.0           42.0   \n",
       "4       5.0            Arsenal FC  20.0    6.0     9.0   68.0           42.0   \n",
       "\n",
       "   Goal Difference  Points Home Wins Home Losses Home Draws Home Goals  \\\n",
       "0             44.0    84.0        15           2          0         47   \n",
       "1             54.0    80.0        16           0          2         45   \n",
       "2             30.0    69.0         9           1          7         30   \n",
       "3             29.0    69.0        11           2          4         42   \n",
       "4             26.0    66.0        12           2          3         34   \n",
       "\n",
       "  Home Goals Against  Away Wins  Away Draws  Away Losses  Away Goals  \\\n",
       "0                 16       12.0         3.0          3.0        29.0   \n",
       "1                  8        8.0         6.0          3.0        32.0   \n",
       "2                 16       11.0         2.0          5.0        38.0   \n",
       "3                 18        9.0         5.0          4.0        29.0   \n",
       "4                 15        8.0         3.0          7.0        34.0   \n",
       "\n",
       "   Away Goals Against                                              Crest  \n",
       "0                16.0  http://upload.wikimedia.org/wikipedia/de/5/5c/...  \n",
       "1                15.0  http://upload.wikimedia.org/wikipedia/de/b/b4/...  \n",
       "2                22.0  https://upload.wikimedia.org/wikipedia/en/e/eb...  \n",
       "3                24.0  http://upload.wikimedia.org/wikipedia/de/0/0a/...  \n",
       "4                27.0  http://upload.wikimedia.org/wikipedia/en/5/53/...  "
      ]
     },
     "execution_count": 513,
     "metadata": {},
     "output_type": "execute_result"
    }
   ],
   "source": [
    "Standings_df.head(5)"
   ]
  },
  {
   "cell_type": "markdown",
   "metadata": {},
   "source": [
    "."
   ]
  },
  {
   "cell_type": "markdown",
   "metadata": {},
   "source": [
    "Players Table&nbsp;&nbsp;&nbsp;&nbsp;&nbsp;&nbsp;\n",
    "Shape : 2465 x 11\n"
   ]
  },
  {
   "cell_type": "code",
   "execution_count": 514,
   "metadata": {},
   "outputs": [
    {
     "data": {
      "text/html": [
       "<div>\n",
       "<style>\n",
       "    .dataframe thead tr:only-child th {\n",
       "        text-align: right;\n",
       "    }\n",
       "\n",
       "    .dataframe thead th {\n",
       "        text-align: left;\n",
       "    }\n",
       "\n",
       "    .dataframe tbody tr th {\n",
       "        vertical-align: top;\n",
       "    }\n",
       "</style>\n",
       "<table border=\"1\" class=\"dataframe\">\n",
       "  <thead>\n",
       "    <tr style=\"text-align: right;\">\n",
       "      <th></th>\n",
       "      <th>Player Id</th>\n",
       "      <th>Name</th>\n",
       "      <th>Position</th>\n",
       "      <th>Market Value</th>\n",
       "      <th>Date of Birth</th>\n",
       "      <th>Contract Until</th>\n",
       "      <th>Nationality</th>\n",
       "      <th>Team ID</th>\n",
       "      <th>Jersey Number</th>\n",
       "      <th>Team Name</th>\n",
       "      <th>League Name</th>\n",
       "    </tr>\n",
       "  </thead>\n",
       "  <tbody>\n",
       "    <tr>\n",
       "      <th>419</th>\n",
       "      <td>839</td>\n",
       "      <td>Örjan Nyland</td>\n",
       "      <td>Keeper</td>\n",
       "      <td>None</td>\n",
       "      <td>1990-09-10</td>\n",
       "      <td>2019-06-30</td>\n",
       "      <td>Norway</td>\n",
       "      <td>31</td>\n",
       "      <td>1</td>\n",
       "      <td>FC Ingolstadt 04</td>\n",
       "      <td>1. Bundesliga</td>\n",
       "    </tr>\n",
       "    <tr>\n",
       "      <th>418</th>\n",
       "      <td>838</td>\n",
       "      <td>Martin Hansen</td>\n",
       "      <td>Keeper</td>\n",
       "      <td>None</td>\n",
       "      <td>1990-06-15</td>\n",
       "      <td>2020-06-30</td>\n",
       "      <td>Denmark</td>\n",
       "      <td>31</td>\n",
       "      <td>35</td>\n",
       "      <td>FC Ingolstadt 04</td>\n",
       "      <td>1. Bundesliga</td>\n",
       "    </tr>\n",
       "    <tr>\n",
       "      <th>229</th>\n",
       "      <td>679</td>\n",
       "      <td>Daniel Didavi</td>\n",
       "      <td>Attacking Midfield</td>\n",
       "      <td>None</td>\n",
       "      <td>1990-02-21</td>\n",
       "      <td>2021-06-30</td>\n",
       "      <td>Germany</td>\n",
       "      <td>11</td>\n",
       "      <td>11</td>\n",
       "      <td>VfL Wolfsburg</td>\n",
       "      <td>1. Bundesliga</td>\n",
       "    </tr>\n",
       "    <tr>\n",
       "      <th>426</th>\n",
       "      <td>846</td>\n",
       "      <td>Markus Suttner</td>\n",
       "      <td>Left-Back</td>\n",
       "      <td>None</td>\n",
       "      <td>1987-04-16</td>\n",
       "      <td>2018-06-30</td>\n",
       "      <td>Austria</td>\n",
       "      <td>31</td>\n",
       "      <td>29</td>\n",
       "      <td>FC Ingolstadt 04</td>\n",
       "      <td>1. Bundesliga</td>\n",
       "    </tr>\n",
       "    <tr>\n",
       "      <th>445</th>\n",
       "      <td>885</td>\n",
       "      <td>Daniel Heuer Fernandes</td>\n",
       "      <td>Keeper</td>\n",
       "      <td>None</td>\n",
       "      <td>1992-11-13</td>\n",
       "      <td>2018-06-30</td>\n",
       "      <td>Portugal</td>\n",
       "      <td>55</td>\n",
       "      <td>1</td>\n",
       "      <td>SV Darmstadt 98</td>\n",
       "      <td>1. Bundesliga</td>\n",
       "    </tr>\n",
       "  </tbody>\n",
       "</table>\n",
       "</div>"
      ],
      "text/plain": [
       "     Player Id                    Name            Position Market Value  \\\n",
       "419        839            Örjan Nyland              Keeper         None   \n",
       "418        838           Martin Hansen              Keeper         None   \n",
       "229        679           Daniel Didavi  Attacking Midfield         None   \n",
       "426        846          Markus Suttner           Left-Back         None   \n",
       "445        885  Daniel Heuer Fernandes              Keeper         None   \n",
       "\n",
       "    Date of Birth Contract Until Nationality  Team ID Jersey Number  \\\n",
       "419    1990-09-10     2019-06-30      Norway       31             1   \n",
       "418    1990-06-15     2020-06-30     Denmark       31            35   \n",
       "229    1990-02-21     2021-06-30     Germany       11            11   \n",
       "426    1987-04-16     2018-06-30     Austria       31            29   \n",
       "445    1992-11-13     2018-06-30    Portugal       55             1   \n",
       "\n",
       "            Team Name    League Name  \n",
       "419  FC Ingolstadt 04  1. Bundesliga  \n",
       "418  FC Ingolstadt 04  1. Bundesliga  \n",
       "229     VfL Wolfsburg  1. Bundesliga  \n",
       "426  FC Ingolstadt 04  1. Bundesliga  \n",
       "445   SV Darmstadt 98  1. Bundesliga  "
      ]
     },
     "execution_count": 514,
     "metadata": {},
     "output_type": "execute_result"
    }
   ],
   "source": [
    "Players_df.head(5)"
   ]
  },
  {
   "cell_type": "markdown",
   "metadata": {},
   "source": [
    "."
   ]
  },
  {
   "cell_type": "markdown",
   "metadata": {
    "collapsed": true
   },
   "source": [
    "Summary Table&nbsp;&nbsp;&nbsp;&nbsp;&nbsp;&nbsp;\n",
    "Shape : 98 x 11"
   ]
  },
  {
   "cell_type": "code",
   "execution_count": 515,
   "metadata": {},
   "outputs": [
    {
     "data": {
      "text/html": [
       "<div>\n",
       "<style>\n",
       "    .dataframe thead tr:only-child th {\n",
       "        text-align: right;\n",
       "    }\n",
       "\n",
       "    .dataframe thead th {\n",
       "        text-align: left;\n",
       "    }\n",
       "\n",
       "    .dataframe tbody tr th {\n",
       "        vertical-align: top;\n",
       "    }\n",
       "</style>\n",
       "<table border=\"1\" class=\"dataframe\">\n",
       "  <thead>\n",
       "    <tr style=\"text-align: right;\">\n",
       "      <th></th>\n",
       "      <th>Position</th>\n",
       "      <th>Team Name</th>\n",
       "      <th>Wins</th>\n",
       "      <th>Draws</th>\n",
       "      <th>Losses</th>\n",
       "      <th>Goals</th>\n",
       "      <th>Goals Against</th>\n",
       "      <th>Goal Difference</th>\n",
       "      <th>Points</th>\n",
       "      <th>Team Value Mill. €</th>\n",
       "      <th>League Name</th>\n",
       "    </tr>\n",
       "  </thead>\n",
       "  <tbody>\n",
       "    <tr>\n",
       "      <th>0</th>\n",
       "      <td>1.0</td>\n",
       "      <td>Chelsea FC</td>\n",
       "      <td>27.0</td>\n",
       "      <td>3.0</td>\n",
       "      <td>5.0</td>\n",
       "      <td>76.0</td>\n",
       "      <td>32.0</td>\n",
       "      <td>44.0</td>\n",
       "      <td>84.0</td>\n",
       "      <td>557.75</td>\n",
       "      <td>Premier League</td>\n",
       "    </tr>\n",
       "    <tr>\n",
       "      <th>1</th>\n",
       "      <td>2.0</td>\n",
       "      <td>Tottenham Hotspur FC</td>\n",
       "      <td>24.0</td>\n",
       "      <td>8.0</td>\n",
       "      <td>3.0</td>\n",
       "      <td>77.0</td>\n",
       "      <td>23.0</td>\n",
       "      <td>54.0</td>\n",
       "      <td>80.0</td>\n",
       "      <td>494.50</td>\n",
       "      <td>Premier League</td>\n",
       "    </tr>\n",
       "    <tr>\n",
       "      <th>2</th>\n",
       "      <td>3.0</td>\n",
       "      <td>Manchester City FC</td>\n",
       "      <td>20.0</td>\n",
       "      <td>9.0</td>\n",
       "      <td>6.0</td>\n",
       "      <td>68.0</td>\n",
       "      <td>38.0</td>\n",
       "      <td>30.0</td>\n",
       "      <td>69.0</td>\n",
       "      <td>543.25</td>\n",
       "      <td>Premier League</td>\n",
       "    </tr>\n",
       "    <tr>\n",
       "      <th>3</th>\n",
       "      <td>4.0</td>\n",
       "      <td>Liverpool FC</td>\n",
       "      <td>20.0</td>\n",
       "      <td>9.0</td>\n",
       "      <td>6.0</td>\n",
       "      <td>71.0</td>\n",
       "      <td>42.0</td>\n",
       "      <td>29.0</td>\n",
       "      <td>69.0</td>\n",
       "      <td>422.20</td>\n",
       "      <td>Premier League</td>\n",
       "    </tr>\n",
       "    <tr>\n",
       "      <th>4</th>\n",
       "      <td>5.0</td>\n",
       "      <td>Arsenal FC</td>\n",
       "      <td>20.0</td>\n",
       "      <td>6.0</td>\n",
       "      <td>9.0</td>\n",
       "      <td>68.0</td>\n",
       "      <td>42.0</td>\n",
       "      <td>26.0</td>\n",
       "      <td>66.0</td>\n",
       "      <td>517.00</td>\n",
       "      <td>Premier League</td>\n",
       "    </tr>\n",
       "  </tbody>\n",
       "</table>\n",
       "</div>"
      ],
      "text/plain": [
       "   Position             Team Name  Wins  Draws  Losses  Goals  Goals Against  \\\n",
       "0       1.0            Chelsea FC  27.0    3.0     5.0   76.0           32.0   \n",
       "1       2.0  Tottenham Hotspur FC  24.0    8.0     3.0   77.0           23.0   \n",
       "2       3.0    Manchester City FC  20.0    9.0     6.0   68.0           38.0   \n",
       "3       4.0          Liverpool FC  20.0    9.0     6.0   71.0           42.0   \n",
       "4       5.0            Arsenal FC  20.0    6.0     9.0   68.0           42.0   \n",
       "\n",
       "   Goal Difference  Points  Team Value Mill. €     League Name  \n",
       "0             44.0    84.0              557.75  Premier League  \n",
       "1             54.0    80.0              494.50  Premier League  \n",
       "2             30.0    69.0              543.25  Premier League  \n",
       "3             29.0    69.0              422.20  Premier League  \n",
       "4             26.0    66.0              517.00  Premier League  "
      ]
     },
     "execution_count": 515,
     "metadata": {},
     "output_type": "execute_result"
    }
   ],
   "source": [
    "Summary_df.head(5)"
   ]
  },
  {
   "cell_type": "markdown",
   "metadata": {
    "collapsed": true
   },
   "source": [
    "# Data Story"
   ]
  },
  {
   "cell_type": "code",
   "execution_count": 732,
   "metadata": {},
   "outputs": [
    {
     "data": {
      "text/html": [
       "<div>\n",
       "<style>\n",
       "    .dataframe thead tr:only-child th {\n",
       "        text-align: right;\n",
       "    }\n",
       "\n",
       "    .dataframe thead th {\n",
       "        text-align: left;\n",
       "    }\n",
       "\n",
       "    .dataframe tbody tr th {\n",
       "        vertical-align: top;\n",
       "    }\n",
       "</style>\n",
       "<table border=\"1\" class=\"dataframe\">\n",
       "  <thead>\n",
       "    <tr style=\"text-align: right;\">\n",
       "      <th></th>\n",
       "      <th>Rank</th>\n",
       "      <th>League</th>\n",
       "      <th>Teams</th>\n",
       "    </tr>\n",
       "  </thead>\n",
       "  <tbody>\n",
       "    <tr>\n",
       "      <th>0</th>\n",
       "      <td>1</td>\n",
       "      <td>Primera Divison</td>\n",
       "      <td>4</td>\n",
       "    </tr>\n",
       "    <tr>\n",
       "      <th>1</th>\n",
       "      <td>2</td>\n",
       "      <td>1. Bundesliga</td>\n",
       "      <td>4</td>\n",
       "    </tr>\n",
       "    <tr>\n",
       "      <th>2</th>\n",
       "      <td>3</td>\n",
       "      <td>Premier League</td>\n",
       "      <td>4</td>\n",
       "    </tr>\n",
       "    <tr>\n",
       "      <th>3</th>\n",
       "      <td>4</td>\n",
       "      <td>Serie A</td>\n",
       "      <td>3</td>\n",
       "    </tr>\n",
       "    <tr>\n",
       "      <th>4</th>\n",
       "      <td>5</td>\n",
       "      <td>Ligue 1</td>\n",
       "      <td>3</td>\n",
       "    </tr>\n",
       "  </tbody>\n",
       "</table>\n",
       "</div>"
      ],
      "text/plain": [
       "   Rank           League  Teams\n",
       "0     1  Primera Divison      4\n",
       "1     2    1. Bundesliga      4\n",
       "2     3   Premier League      4\n",
       "3     4          Serie A      3\n",
       "4     5          Ligue 1      3"
      ]
     },
     "execution_count": 732,
     "metadata": {},
     "output_type": "execute_result"
    }
   ],
   "source": [
    "# Champions League Allocated Spots by League\n",
    "\n",
    "columns = ['Rank', 'League', 'Teams']\n",
    "Champions_df = pd.DataFrame(columns=columns)\n",
    "Champions_df['Rank'] = range(1,6)\n",
    "Champions_df['League'] = ['Primera Divison', '1. Bundesliga', 'Premier League', 'Serie A', 'Ligue 1']\n",
    "Champions_df['Teams'] = [4,4,4,3,3]\n",
    "Champions_df"
   ]
  },
  {
   "cell_type": "markdown",
   "metadata": {},
   "source": [
    "According to Uefa: \"The associations' club coefficients rankings are based on the results of each association's clubs in the five previous UEFA Champions League and UEFA Europa League seasons. The rankings determine the number of places allocated to an association (country) in forthcoming UEFA club competition.\" The table above displayes the number of spots allocated from each of Europe's top leagues. The last ranked team from the table above from each league will enter a play-off round to qualify. The Europa League winner also automatically qualifies to the Champions League, regardless of their season performance.\n",
    "\n",
    "source: http://www.uefa.com/memberassociations/uefarankings/country/"
   ]
  },
  {
   "cell_type": "code",
   "execution_count": 717,
   "metadata": {},
   "outputs": [
    {
     "name": "stderr",
     "output_type": "stream",
     "text": [
      "C:\\Users\\USER\\Anaconda3\\lib\\site-packages\\ipykernel_launcher.py:3: UserWarning:\n",
      "\n",
      "Boolean Series key will be reindexed to match DataFrame index.\n",
      "\n",
      "C:\\Users\\USER\\Anaconda3\\lib\\site-packages\\ipykernel_launcher.py:4: UserWarning:\n",
      "\n",
      "Boolean Series key will be reindexed to match DataFrame index.\n",
      "\n",
      "C:\\Users\\USER\\Anaconda3\\lib\\site-packages\\ipykernel_launcher.py:5: UserWarning:\n",
      "\n",
      "Boolean Series key will be reindexed to match DataFrame index.\n",
      "\n",
      "C:\\Users\\USER\\Anaconda3\\lib\\site-packages\\ipykernel_launcher.py:6: UserWarning:\n",
      "\n",
      "Boolean Series key will be reindexed to match DataFrame index.\n",
      "\n",
      "C:\\Users\\USER\\Anaconda3\\lib\\site-packages\\ipykernel_launcher.py:7: UserWarning:\n",
      "\n",
      "Boolean Series key will be reindexed to match DataFrame index.\n",
      "\n",
      "C:\\Users\\USER\\Anaconda3\\lib\\site-packages\\ipykernel_launcher.py:15: UserWarning:\n",
      "\n",
      "Boolean Series key will be reindexed to match DataFrame index.\n",
      "\n",
      "C:\\Users\\USER\\Anaconda3\\lib\\site-packages\\ipykernel_launcher.py:16: UserWarning:\n",
      "\n",
      "Boolean Series key will be reindexed to match DataFrame index.\n",
      "\n",
      "C:\\Users\\USER\\Anaconda3\\lib\\site-packages\\ipykernel_launcher.py:17: UserWarning:\n",
      "\n",
      "Boolean Series key will be reindexed to match DataFrame index.\n",
      "\n",
      "C:\\Users\\USER\\Anaconda3\\lib\\site-packages\\ipykernel_launcher.py:18: UserWarning:\n",
      "\n",
      "Boolean Series key will be reindexed to match DataFrame index.\n",
      "\n",
      "C:\\Users\\USER\\Anaconda3\\lib\\site-packages\\ipykernel_launcher.py:19: UserWarning:\n",
      "\n",
      "Boolean Series key will be reindexed to match DataFrame index.\n",
      "\n"
     ]
    }
   ],
   "source": [
    "#Creates Data Frame of Teams Automatically Qualified for Champions League Group Stage\n",
    "\n",
    "PL = Summary_df[Summary_df[\"League Name\"]=='Premier League'][Summary_df[\"Position\"].isin([1,2,3])]\n",
    "PD = Summary_df[Summary_df[\"League Name\"]=='Primera Division'][Summary_df[\"Position\"].isin([1,2,3])]\n",
    "BL = Summary_df[Summary_df[\"League Name\"]=='1. Bundesliga'][Summary_df[\"Position\"].isin([1,2,3])]\n",
    "SA = Summary_df[Summary_df[\"League Name\"]=='Serie A'][Summary_df[\"Position\"].isin([1,2])]\n",
    "FL = Summary_df[Summary_df[\"League Name\"]=='Ligue 1'][Summary_df[\"Position\"].isin([1,2])]\n",
    "CL_teams = PL.append(PD, ignore_index=True)\n",
    "CL_teams = CL_teams.append(BL, ignore_index=True)\n",
    "CL_teams = CL_teams.append(SA, ignore_index=True)\n",
    "CL_teams = CL_teams.append(FL, ignore_index=True)\n",
    "\n",
    "#Creates Data Frame of Teams on Champions League Play-off Round\n",
    "\n",
    "PLR = Summary_df[Summary_df[\"League Name\"]=='Premier League'][Summary_df[\"Position\"].isin([4])]\n",
    "PDR = Summary_df[Summary_df[\"League Name\"]=='Primera Division'][Summary_df[\"Position\"].isin([4])]\n",
    "BLR = Summary_df[Summary_df[\"League Name\"]=='1. Bundesliga'][Summary_df[\"Position\"].isin([4])]\n",
    "SAR = Summary_df[Summary_df[\"League Name\"]=='Serie A'][Summary_df[\"Position\"].isin([3])]\n",
    "FLR = Summary_df[Summary_df[\"League Name\"]=='Ligue 1'][Summary_df[\"Position\"].isin([3])]\n",
    "CR_teams = PLR.append(PDR, ignore_index=True)\n",
    "CR_teams = CR_teams.append(BLR, ignore_index=True)\n",
    "CR_teams = CR_teams.append(SAR, ignore_index=True)\n",
    "CR_teams = CR_teams.append(FLR, ignore_index=True)\n",
    "CR_teams\n",
    "\n",
    "#Creates Data Frame of Europa League Winner (Qualifies Automatically to Champions League)\n",
    "\n",
    "EL_team = Summary_df[Summary_df[\"Team Name\"]=='Manchester United FC']\n",
    "\n",
    "#Creates Data Frame of Teams Not Qualified to Champions League\n",
    "\n",
    "No_CL = Summary_df[Summary_df[\"Position\"]>3]\n",
    "No_CL = No_CL[No_CL[\"Team Name\"]!='Liverpool FC']\n",
    "No_CL = No_CL[No_CL[\"Team Name\"]!='TSG 1899 Hoffenheim']\n",
    "No_CL = No_CL[No_CL[\"Team Name\"]!='Sevilla FC']\n",
    "No_CL = No_CL[No_CL[\"Team Name\"]!='Manchester United FC']"
   ]
  },
  {
   "cell_type": "code",
   "execution_count": 516,
   "metadata": {},
   "outputs": [
    {
     "data": {
      "image/png": "[encoded data removed]",
      "text/plain": [
       "<matplotlib.figure.Figure at 0x1a3be330e80>"
      ]
     },
     "metadata": {},
     "output_type": "display_data"
    }
   ],
   "source": [
    "from matplotlib.ticker import NullFormatter \n",
    "\n",
    "plt.subplot(321)\n",
    "plt.hist(Summary_df[\"Team Value Mill. €\"], color='steelblue')\n",
    "plt.title(\"Top Leagues' Squad Market Value\")\n",
    "plt.ylabel(\"Number of Teams\")\n",
    "plt.xlabel(\"Team Value Mill. €\")\n",
    "plt.grid(True)\n",
    "\n",
    "\n",
    "# Premier League\n",
    "plt.subplot(322)\n",
    "plt.hist(Summary_df[Summary_df['League Name']==\"Premier League\"][\"Team Value Mill. €\"], color='steelblue')\n",
    "plt.title('Premier League')\n",
    "plt.ylabel(\"Number of Teams\")\n",
    "plt.xlabel(\"Team Value Mill. €\")\n",
    "plt.grid(True)\n",
    "\n",
    "# Bundesliga\n",
    "plt.subplot(323)\n",
    "plt.hist(Summary_df[Summary_df['League Name']==\"1. Bundesliga\"][\"Team Value Mill. €\"], color='steelblue')\n",
    "plt.title('1. Bundesliga')\n",
    "plt.ylabel(\"Number of Teams\")\n",
    "plt.xlabel(\"Team Value Mill. €\")\n",
    "plt.grid(True)\n",
    "\n",
    "\n",
    "# Ligue 1\n",
    "plt.subplot(324)\n",
    "plt.hist(Summary_df[Summary_df['League Name']==\"Ligue 1\"][\"Team Value Mill. €\"], color='steelblue')\n",
    "plt.title('Ligue 1')\n",
    "plt.ylabel(\"Number of Teams\")\n",
    "plt.xlabel(\"Team Value Mill. €\")\n",
    "plt.grid(True)\n",
    "\n",
    "# Primera Division\n",
    "plt.subplot(325)\n",
    "plt.hist(Summary_df[Summary_df['League Name']==\"Primera Division\"][\"Team Value Mill. €\"], color='steelblue')\n",
    "plt.title('Primera Division')\n",
    "plt.ylabel(\"Number of Teams\")\n",
    "plt.xlabel(\"Team Value Mill. €\")\n",
    "plt.grid(True)\n",
    "\n",
    "# Serie A\n",
    "plt.subplot(326)\n",
    "plt.hist(Summary_df[Summary_df['League Name']==\"Serie A\"][\"Team Value Mill. €\"], color='steelblue')\n",
    "plt.title('Serie A')\n",
    "plt.ylabel(\"Number of Teams\")\n",
    "plt.xlabel(\"Team Value Mill. €\")\n",
    "plt.grid(True)\n",
    "\n",
    "\n",
    "plt.gca().yaxis.set_minor_formatter(NullFormatter())\n",
    "\n",
    "plt.subplots_adjust(top=0.92, bottom=0.08, left=0.10, right=0.95, hspace=1,\n",
    "                    wspace=0.35)\n",
    "plt.show()\n",
    "plt.figure(figsize=(15,7))\n",
    "None"
   ]
  },
  {
   "cell_type": "markdown",
   "metadata": {},
   "source": [
    "The distribution of the team market values are skewed to the right. The Premier League appears to have a more even distribution whereas the other leagues have a few teams worth more than the rest."
   ]
  },
  {
   "cell_type": "code",
   "execution_count": 735,
   "metadata": {},
   "outputs": [],
   "source": [
    "import plotly.plotly as py\n",
    "import plotly.graph_objs\n",
    "plotly.tools.set_credentials_file(username='gpguerra', api_key='56kn61TUzvnHLDuAdpwN')"
   ]
  },
  {
   "cell_type": "code",
   "execution_count": 807,
   "metadata": {},
   "outputs": [
    {
     "data": {
      "image/png": "[encoded data removed]",
      "text/plain": [
       "<matplotlib.figure.Figure at 0x1a3bfebe080>"
      ]
     },
     "metadata": {},
     "output_type": "display_data"
    }
   ],
   "source": [
    "#Creats Boxpots for Each league with Outliers\n",
    "ax = plt.axes()\n",
    "x = Summary_df[\"Team Value Mill. €\"]\n",
    "y = Summary_df['League Name']\n",
    "sns.boxplot(x=x, y=y, palette='Blues')\n",
    "ax.set_title(\"Leagues' Market Values Distribution\")\n",
    "plt.show()"
   ]
  },
  {
   "cell_type": "markdown",
   "metadata": {},
   "source": [
    "The figure above allows for better comparisons of the different distributions of team values. All of the leagues except for the Premier League has outliers. Primera Division has two extreme outliers (Real Madrid & Barcelona) which are worth more than any other team in all of the leagues. "
   ]
  },
  {
   "cell_type": "code",
   "execution_count": 738,
   "metadata": {},
   "outputs": [
    {
     "data": {
      "image/png": "[encoded data removed]",
      "text/plain": [
       "<matplotlib.figure.Figure at 0x1a3c00a2080>"
      ]
     },
     "metadata": {},
     "output_type": "display_data"
    }
   ],
   "source": [
    "#Bar Plot of Leagues' Market Value\n",
    "\n",
    "ax = plt.axes()\n",
    "sns.set(style=\"whitegrid\")\n",
    "\n",
    "x0 = int(Summary_df[Summary_df['League Name']==\"Premier League\"][\"Team Value Mill. €\"].sum())\n",
    "x1 = int(Summary_df[Summary_df['League Name']==\"1. Bundesliga\"][\"Team Value Mill. €\"].sum())\n",
    "x2 = int(Summary_df[Summary_df['League Name']==\"Ligue 1\"][\"Team Value Mill. €\"].sum())\n",
    "x3 = int(Summary_df[Summary_df['League Name']==\"Primera Division\"][\"Team Value Mill. €\"].sum())\n",
    "x4 = int(Summary_df[Summary_df['League Name']==\"Serie A\"][\"Team Value Mill. €\"].sum())\n",
    "\n",
    "values = [x0, x1, x2, x3, x4]\n",
    "\n",
    "columns = [\"Market Value Mill. €\"]\n",
    "df = pd.DataFrame(columns=columns)\n",
    "df['Market Value Mill. €'] = values\n",
    "\n",
    "x = Top_leagues_df['League Name']\n",
    "y = df['Market Value Mill. €']\n",
    "\n",
    "sns.barplot(x=x, y=y, data=crashes, color=\"b\", palette='Blues_d', ax=ax)\n",
    "ax.set_title(\"Leagues' Market Value\")\n",
    "ax.set_ylabel(\"Total Market Value Mill. €\")\n",
    "plt.show()"
   ]
  },
  {
   "cell_type": "markdown",
   "metadata": {},
   "source": [
    "The Premier League's players are worth far more than the rest of the other leagues with Primera Division coming in second. It is  important to note that this table reflects a sum value of all players in each league. Since 1. Bundesliga has 18 teams (two less than the other leagues), a bar plot reflecting average values may be more appropriate. Also, Primera Division has two extreme outliers that push the market value of the whole league."
   ]
  },
  {
   "cell_type": "code",
   "execution_count": 739,
   "metadata": {},
   "outputs": [
    {
     "data": {
      "image/png": "[encoded data removed]",
      "text/plain": [
       "<matplotlib.figure.Figure at 0x1a3bd745390>"
      ]
     },
     "metadata": {},
     "output_type": "display_data"
    }
   ],
   "source": [
    "#Bar Plot of Leagues' Mean Market Value\n",
    "\n",
    "ax = plt.axes()\n",
    "sns.set(style=\"whitegrid\")\n",
    "\n",
    "x0 = int(Summary_df[Summary_df['League Name']==\"Premier League\"][\"Team Value Mill. €\"].mean())\n",
    "x1 = int(Summary_df[Summary_df['League Name']==\"1. Bundesliga\"][\"Team Value Mill. €\"].mean())\n",
    "x2 = int(Summary_df[Summary_df['League Name']==\"Ligue 1\"][\"Team Value Mill. €\"].mean())\n",
    "x3 = int(Summary_df[Summary_df['League Name']==\"Primera Division\"][\"Team Value Mill. €\"].mean())\n",
    "x4 = int(Summary_df[Summary_df['League Name']==\"Serie A\"][\"Team Value Mill. €\"].mean())\n",
    "\n",
    "values = [x0, x1, x2, x3, x4]\n",
    "\n",
    "columns = [\"Market Value Mill. €\"]\n",
    "df = pd.DataFrame(columns=columns)\n",
    "df['Market Value Mill. €'] = values\n",
    "\n",
    "x = Top_leagues_df['League Name']\n",
    "y = df['Market Value Mill. €']\n",
    "\n",
    "sns.barplot(x=x, y=y, data=crashes, color=\"b\", palette='Blues_d', ax=ax)\n",
    "ax.set_title(\"Leagues' Market Value\")\n",
    "plt.show()"
   ]
  },
  {
   "cell_type": "markdown",
   "metadata": {},
   "source": [
    "Using mean values, there is an apparent increase in 1.Bundesliga's value. The Premier League, still remains the most expensive league in terms of team value, with Primera Division, Serie A, 1. Bundesliga, and Ligue 1 following in order."
   ]
  },
  {
   "cell_type": "code",
   "execution_count": 880,
   "metadata": {},
   "outputs": [
    {
     "data": {
      "image/png": "[encoded data removed]",
      "text/plain": [
       "<matplotlib.figure.Figure at 0x1a3bd759ac8>"
      ]
     },
     "metadata": {},
     "output_type": "display_data"
    },
    {
     "name": "stdout",
     "output_type": "stream",
     "text": [
      "correlation coefficient: 0.78\n"
     ]
    }
   ],
   "source": [
    "#Creates Scatter Plot of Wins in the Last Season and Team Market Value\n",
    "ax = plt.axes()\n",
    "x = Summary_df[\"Team Value Mill. €\"]\n",
    "y = Summary_df[\"Wins\"]\n",
    "\n",
    "x1 = CL_teams[\"Team Value Mill. €\"]\n",
    "x2 = CR_teams[\"Team Value Mill. €\"]\n",
    "x3 = EL_team[\"Team Value Mill. €\"]\n",
    "x4 = No_CL[\"Team Value Mill. €\"]\n",
    "\n",
    "y1 = CL_teams[\"Wins\"]\n",
    "y2 = CR_teams[\"Wins\"]\n",
    "y3 = EL_team[\"Wins\"]\n",
    "y4 = No_CL[\"Wins\"]\n",
    "\n",
    "# Generated linear fit\n",
    "slope, intercept, r_value, p_value, std_err = stats.linregress(x,y)\n",
    "line = slope*x+intercept\n",
    "\n",
    "plt.plot(x, line)\n",
    "sns.regplot(x=x1, y=y1, fit_reg=False, color=\"#2ecc71\")\n",
    "sns.regplot(x=x2, y=y2, fit_reg=False, color=\"#e74c3c\")\n",
    "sns.regplot(x=x3, y=y3, fit_reg=False, color=\"#3498db\")\n",
    "sns.regplot(x=x4, y=y4, fit_reg=False, color=\"#95a5a6\")\n",
    "\n",
    "\n",
    "plt.text(Summary_df[Summary_df[\"Team Name\"]==\"Real Madrid CF\"][\"Team Value Mill. €\"], Summary_df[Summary_df[\"Team Name\"]==\"Real Madrid CF\"][\"Wins\"], 'Real Madrid')\n",
    "plt.text(Summary_df[Summary_df[\"Team Name\"]==\"Arsenal FC\"][\"Team Value Mill. €\"], Summary_df[Summary_df[\"Team Name\"]==\"Arsenal FC\"][\"Wins\"], 'Arsenal')\n",
    "plt.text(Summary_df[Summary_df[\"Team Name\"]==\"Manchester United FC\"][\"Team Value Mill. €\"], Summary_df[Summary_df[\"Team Name\"]==\"Manchester United FC\"][\"Wins\"], 'ManU')\n",
    "plt.text(Summary_df[Summary_df[\"Team Name\"]==\"AS Monaco FC\"][\"Team Value Mill. €\"], Summary_df[Summary_df[\"Team Name\"]==\"AS Monaco FC\"][\"Wins\"], 'Monaco')\n",
    "plt.text(Summary_df[Summary_df[\"Team Name\"]==\"OGC Nice\"][\"Team Value Mill. €\"], Summary_df[Summary_df[\"Team Name\"]==\"OGC Nice\"][\"Wins\"], 'Nice')\n",
    "plt.text(Summary_df[Summary_df[\"Team Name\"]==\"Pescara Calcio\"][\"Team Value Mill. €\"], Summary_df[Summary_df[\"Team Name\"]==\"Pescara Calcio\"][\"Wins\"], 'Pescara Calcio')\n",
    "\n",
    "\n",
    "ax.set_title(\"Wins in Season 2016/2017\")\n",
    "ax.legend(labels=('Linear Fit', 'Qualified', 'Play-offs', 'Europa League Winner', 'Not Qualified'))\n",
    "plt.show()\n",
    "#Print Correlation Coefficient\n",
    "print('correlation coefficient: ' + str(round(np.corrcoef(Summary_df[\"Team Value Mill. €\"], Summary_df[\"Wins\"])[0][1],2)))"
   ]
  },
  {
   "cell_type": "markdown",
   "metadata": {},
   "source": [
    "There is a strong positive relationship between how many games a club wins in a season and the value of its players. A correlation coefficient of 0.78 reflects this relationship. From the scatter plot above, all of the team worth over 330 million, except for Arsenal FC have qualified or made the play-off round for the Champions League. Manchester United made it through by winning the Europa League, but from the graph above, it is apparent for a club of its stature, the club had a mediocre if not poor season. The squad is worth over 450 million, but only managed to win 17 games rather than 23 suggested by the linear fit. AS Monaco seems to be the most effective team, having won 30 games with a team value of 272 million. OGC Nice looks like the team revelation of the season winning 23 games with a team worth less than 130 million."
   ]
  },
  {
   "cell_type": "code",
   "execution_count": 893,
   "metadata": {},
   "outputs": [
    {
     "data": {
      "image/png": "[encoded data removed]",
      "text/plain": [
       "<matplotlib.figure.Figure at 0x1a3be2cbba8>"
      ]
     },
     "metadata": {},
     "output_type": "display_data"
    },
    {
     "name": "stdout",
     "output_type": "stream",
     "text": [
      "correlation coefficient: -0.74\n"
     ]
    }
   ],
   "source": [
    "#Creates Scatter Plot of Losses in the Last Season and Team Market Value\n",
    "ax = plt.axes()\n",
    "x = Summary_df[\"Team Value Mill. €\"]\n",
    "y = Summary_df[\"Losses\"]\n",
    "\n",
    "x1 = CL_teams[\"Team Value Mill. €\"]\n",
    "x2 = CR_teams[\"Team Value Mill. €\"]\n",
    "x3 = EL_team[\"Team Value Mill. €\"]\n",
    "x4 = No_CL[\"Team Value Mill. €\"]\n",
    "\n",
    "y1 = CL_teams[\"Losses\"]\n",
    "y2 = CR_teams[\"Losses\"]\n",
    "y3 = EL_team[\"Losses\"]\n",
    "y4 = No_CL[\"Losses\"]\n",
    "\n",
    "# Generated linear fit\n",
    "slope, intercept, r_value, p_value, std_err = stats.linregress(x,y)\n",
    "line = slope*x+intercept\n",
    "\n",
    "plt.plot(x, line)\n",
    "sns.regplot(x=x1, y=y1, fit_reg=False, color=\"#2ecc71\")\n",
    "sns.regplot(x=x2, y=y2, fit_reg=False, color=\"#e74c3c\")\n",
    "sns.regplot(x=x3, y=y3, fit_reg=False, color=\"#3498db\")\n",
    "sns.regplot(x=x4, y=y4, fit_reg=False, color=\"#95a5a6\")\n",
    "\n",
    "\n",
    "plt.text(Summary_df[Summary_df[\"Team Name\"]==\"Real Madrid CF\"][\"Team Value Mill. €\"], Summary_df[Summary_df[\"Team Name\"]==\"Real Madrid CF\"][\"Losses\"], 'Real Madrid')\n",
    "plt.text(Summary_df[Summary_df[\"Team Name\"]==\"Arsenal FC\"][\"Team Value Mill. €\"], Summary_df[Summary_df[\"Team Name\"]==\"Arsenal FC\"][\"Losses\"], 'Arsenal')\n",
    "plt.text(Summary_df[Summary_df[\"Team Name\"]==\"TSG 1899 Hoffenheim\"][\"Team Value Mill. €\"], Summary_df[Summary_df[\"Team Name\"]==\"TSG 1899 Hoffenheim\"][\"Losses\"], 'Hoffenheim')\n",
    "plt.text(Summary_df[Summary_df[\"Team Name\"]==\"FC Bayern München\"][\"Team Value Mill. €\"], Summary_df[Summary_df[\"Team Name\"]==\"FC Bayern München\"][\"Losses\"], 'Bayern Mun')\n",
    "plt.text(Summary_df[Summary_df[\"Team Name\"]==\"Granada CF\"][\"Team Value Mill. €\"], Summary_df[Summary_df[\"Team Name\"]==\"Granada CF\"][\"Losses\"], 'Granada')\n",
    "\n",
    "\n",
    "ax.set_title(\"Losses in Season 2016/2017\")\n",
    "ax.legend(labels=('Linear Fit', 'Qualified', 'Play-offs', 'Europa League Winner', 'Not Qualified'))\n",
    "plt.show()\n",
    "#Print Correlation Coefficient\n",
    "print('correlation coefficient: ' + str(round(np.corrcoef(Summary_df[\"Team Value Mill. €\"], Summary_df[\"Losses\"])[0][1],2)))"
   ]
  },
  {
   "cell_type": "markdown",
   "metadata": {
    "collapsed": true
   },
   "source": [
    "There is a negative relationship between losses and a team's market value. Again, Arsenal FC stands out for losing the most games (9) for teams worth over 350 million. OGC Nice and TSG 1899 Hoffenheim only lost 4 games with teams worth less than 140 million."
   ]
  },
  {
   "cell_type": "code",
   "execution_count": 892,
   "metadata": {},
   "outputs": [
    {
     "data": {
      "image/png": "[encoded data removed]",
      "text/plain": [
       "<matplotlib.figure.Figure at 0x1a3beed8208>"
      ]
     },
     "metadata": {},
     "output_type": "display_data"
    },
    {
     "name": "stdout",
     "output_type": "stream",
     "text": [
      "correlation coefficient: -0.69\n"
     ]
    }
   ],
   "source": [
    "#Creates Scatter Plot of Position in the Last Season and Team Market Value\n",
    "ax = plt.axes()\n",
    "x = Summary_df[\"Team Value Mill. €\"]\n",
    "y = Summary_df[\"Position\"]\n",
    "\n",
    "x1 = CL_teams[\"Team Value Mill. €\"]\n",
    "x2 = CR_teams[\"Team Value Mill. €\"]\n",
    "x3 = EL_team[\"Team Value Mill. €\"]\n",
    "x4 = No_CL[\"Team Value Mill. €\"]\n",
    "\n",
    "y1 = CL_teams[\"Position\"]\n",
    "y2 = CR_teams[\"Position\"]\n",
    "y3 = EL_team[\"Position\"]\n",
    "y4 = No_CL[\"Position\"]\n",
    "\n",
    "# Generated linear fit\n",
    "slope, intercept, r_value, p_value, std_err = stats.linregress(x,y)\n",
    "line = slope*x+intercept\n",
    "\n",
    "plt.plot(x, line)\n",
    "sns.regplot(x=x1, y=y1, fit_reg=False, color=\"#2ecc71\")\n",
    "sns.regplot(x=x2, y=y2, fit_reg=False, color=\"#e74c3c\")\n",
    "sns.regplot(x=x3, y=y3, fit_reg=False, color=\"#3498db\")\n",
    "sns.regplot(x=x4, y=y4, fit_reg=False, color=\"#95a5a6\")\n",
    "\n",
    "\n",
    "plt.text(Summary_df[Summary_df[\"Team Name\"]==\"Real Madrid CF\"][\"Team Value Mill. €\"], Summary_df[Summary_df[\"Team Name\"]==\"Real Madrid CF\"][\"Position\"], 'Real Madrid')\n",
    "plt.text(Summary_df[Summary_df[\"Team Name\"]==\"Red Bull Leipzig\"][\"Team Value Mill. €\"], Summary_df[Summary_df[\"Team Name\"]==\"Red Bull Leipzig\"][\"Position\"], 'Leipzig')\n",
    "plt.text(Summary_df[Summary_df[\"Team Name\"]==\"FC Barcelona\"][\"Team Value Mill. €\"], Summary_df[Summary_df[\"Team Name\"]==\"FC Barcelona\"][\"Position\"], 'Barcelona')\n",
    "plt.text(Summary_df[Summary_df[\"Team Name\"]==\"Juventus Turin\"][\"Team Value Mill. €\"], Summary_df[Summary_df[\"Team Name\"]==\"Juventus Turin\"][\"Position\"], 'Juventus')\n",
    "plt.text(Summary_df[Summary_df[\"Team Name\"]==\"AS Roma\"][\"Team Value Mill. €\"], Summary_df[Summary_df[\"Team Name\"]==\"AS Roma\"][\"Position\"], 'Roma')\n",
    "\n",
    "\n",
    "ax.set_title(\"End Position in Season 2016/2017\")\n",
    "ax.legend(labels=('Linear Fit', 'Qualified', 'Play-offs', 'Europa League Winner', 'Not Qualified'))\n",
    "plt.show()\n",
    "#Print Correlation Coefficient\n",
    "print('correlation coefficient: ' + str(round(np.corrcoef(Summary_df[\"Team Value Mill. €\"], Summary_df[\"Position\"])[0][1],2)))"
   ]
  },
  {
   "cell_type": "markdown",
   "metadata": {
    "collapsed": true
   },
   "source": [
    "From the graph above, Red Bull Leipzig stands out by reaching the second position in their league with a team worth a merely 163 million. Real Madrid and Barcelona are at the end of the scale in term of team value, but they most compete against each other. Juventus Turin made to the top spot in Serie A with a team worth more than 100 million than their closest rival (AS Roma). Juventus must still compete in the Champions League against teams like Real Madrid and Barcelona, so it makes sense for them to have a team worth considerably compared to the rest of Seria A clubs."
   ]
  }
 ],
 "metadata": {
  "kernelspec": {
   "display_name": "Python 3",
   "language": "python",
   "name": "python3"
  },
  "language_info": {
   "codemirror_mode": {
    "name": "ipython",
    "version": 3
   },
   "file_extension": ".py",
   "mimetype": "text/x-python",
   "name": "python",
   "nbconvert_exporter": "python",
   "pygments_lexer": "ipython3",
   "version": "3.6.1"
  }
 },
 "nbformat": 4,
 "nbformat_minor": 2
}
