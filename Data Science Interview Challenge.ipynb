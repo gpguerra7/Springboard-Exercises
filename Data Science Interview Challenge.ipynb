{
 "cells": [
  {
   "cell_type": "code",
   "execution_count": 2,
   "metadata": {},
   "outputs": [],
   "source": [
    "import findspark\n",
    "findspark.init()\n",
    "import pyspark\n",
    "import random\n",
    "sc = pyspark.SparkContext(appName=\"Pi\")"
   ]
  },
  {
   "cell_type": "markdown",
   "metadata": {},
   "source": [
    "### Try using pyspark"
   ]
  },
  {
   "cell_type": "code",
   "execution_count": 3,
   "metadata": {},
   "outputs": [],
   "source": [
    "file = open('amazon-meta.txt', 'r')\n",
    "amazon = sc.textFile('amazon-meta.txt')"
   ]
  },
  {
   "cell_type": "code",
   "execution_count": 4,
   "metadata": {},
   "outputs": [
    {
     "data": {
      "text/plain": [
       "['# Full information about Amazon Share the Love products',\n",
       " 'Total items: 548552',\n",
       " '',\n",
       " 'Id:   0',\n",
       " 'ASIN: 0771044445',\n",
       " '  discontinued product',\n",
       " '',\n",
       " 'Id:   1',\n",
       " 'ASIN: 0827229534',\n",
       " '  title: Patterns of Preaching: A Sermon Sampler',\n",
       " '  group: Book',\n",
       " '  salesrank: 396585',\n",
       " '  similar: 5  0804215715  156101074X  0687023955  0687074231  082721619X',\n",
       " '  categories: 2',\n",
       " '   |Books[283155]|Subjects[1000]|Religion & Spirituality[22]|Christianity[12290]|Clergy[12360]|Preaching[12368]',\n",
       " '   |Books[283155]|Subjects[1000]|Religion & Spirituality[22]|Christianity[12290]|Clergy[12360]|Sermons[12370]',\n",
       " '  reviews: total: 2  downloaded: 2  avg rating: 5',\n",
       " '    2000-7-28  cutomer: A2JW67OY8U6HHK  rating: 5  votes:  10  helpful:   9',\n",
       " '    2003-12-14  cutomer: A2VE83MZF98ITY  rating: 5  votes:   6  helpful:   5',\n",
       " '',\n",
       " 'Id:   2',\n",
       " 'ASIN: 0738700797',\n",
       " '  title: Candlemas: Feast of Flames',\n",
       " '  group: Book',\n",
       " '  salesrank: 168596',\n",
       " '  similar: 5  0738700827  1567184960  1567182836  0738700525  0738700940',\n",
       " '  categories: 2',\n",
       " '   |Books[283155]|Subjects[1000]|Religion & Spirituality[22]|Earth-Based Religions[12472]|Wicca[12484]',\n",
       " '   |Books[283155]|Subjects[1000]|Religion & Spirituality[22]|Earth-Based Religions[12472]|Witchcraft[12486]',\n",
       " '  reviews: total: 12  downloaded: 12  avg rating: 4.5',\n",
       " '    2001-12-16  cutomer: A11NCO6YTE4BTJ  rating: 5  votes:   5  helpful:   4',\n",
       " '    2002-1-7  cutomer:  A9CQ3PLRNIR83  rating: 4  votes:   5  helpful:   5',\n",
       " '    2002-1-24  cutomer: A13SG9ACZ9O5IM  rating: 5  votes:   8  helpful:   8',\n",
       " '    2002-1-28  cutomer: A1BDAI6VEYMAZA  rating: 5  votes:   4  helpful:   4',\n",
       " '    2002-2-6  cutomer: A2P6KAWXJ16234  rating: 4  votes:  16  helpful:  16',\n",
       " '    2002-2-14  cutomer:  AMACWC3M7PQFR  rating: 4  votes:   5  helpful:   5',\n",
       " '    2002-3-23  cutomer: A3GO7UV9XX14D8  rating: 4  votes:   6  helpful:   6',\n",
       " '    2002-5-23  cutomer: A1GIL64QK68WKL  rating: 5  votes:   8  helpful:   8',\n",
       " '    2003-2-25  cutomer:  AEOBOF2ONQJWV  rating: 5  votes:   8  helpful:   5',\n",
       " '    2003-11-25  cutomer: A3IGHTES8ME05L  rating: 5  votes:   5  helpful:   5',\n",
       " '    2004-2-11  cutomer: A1CP26N8RHYVVO  rating: 1  votes:  13  helpful:   9',\n",
       " '    2005-2-7  cutomer:  ANEIANH0WAT9D  rating: 5  votes:   1  helpful:   1',\n",
       " '',\n",
       " 'Id:   3',\n",
       " 'ASIN: 0486287785',\n",
       " '  title: World War II Allied Fighter Planes Trading Cards',\n",
       " '  group: Book',\n",
       " '  salesrank: 1270652',\n",
       " '  similar: 0',\n",
       " '  categories: 1']"
      ]
     },
     "execution_count": 4,
     "metadata": {},
     "output_type": "execute_result"
    }
   ],
   "source": [
    "amazon.take(50)"
   ]
  },
  {
   "cell_type": "markdown",
   "metadata": {},
   "source": [
    "### How to convert above data to df?"
   ]
  },
  {
   "cell_type": "markdown",
   "metadata": {},
   "source": [
    "### Let's try using gzip: Works but takes long"
   ]
  },
  {
   "cell_type": "code",
   "execution_count": 5,
   "metadata": {},
   "outputs": [],
   "source": [
    "import gzip\n",
    "g = gzip.open(\"amazon-meta.txt.gz\", 'rb')"
   ]
  },
  {
   "cell_type": "code",
   "execution_count": 6,
   "metadata": {},
   "outputs": [],
   "source": [
    "#turns whole data into one list\n",
    "data = []\n",
    "for i in g:\n",
    "    data.append(i)"
   ]
  },
  {
   "cell_type": "code",
   "execution_count": 7,
   "metadata": {},
   "outputs": [],
   "source": [
    "#Create list of lists where every product is an inner list:\n",
    "data_lists =[]\n",
    "temp =[]\n",
    "for i in data:\n",
    "    if i[0:4]==b'\\r\\n':\n",
    "        data_lists.append(temp)\n",
    "        del temp\n",
    "        temp =[]\n",
    "    else:\n",
    "        temp.append(i)"
   ]
  },
  {
   "cell_type": "markdown",
   "metadata": {},
   "source": [
    "Let's extract each figure into its own list:"
   ]
  },
  {
   "cell_type": "code",
   "execution_count": 8,
   "metadata": {},
   "outputs": [],
   "source": [
    "Id =[]\n",
    "for i in data_lists[1:]:\n",
    "    Id.append(i[0][6:])"
   ]
  },
  {
   "cell_type": "code",
   "execution_count": 9,
   "metadata": {},
   "outputs": [],
   "source": [
    "ASIN =[]\n",
    "for i in data_lists[1:]:\n",
    "    ASIN.append(i[1][6:])"
   ]
  },
  {
   "cell_type": "code",
   "execution_count": 10,
   "metadata": {},
   "outputs": [],
   "source": [
    "Title =[]\n",
    "for i in data_lists[1:]:\n",
    "    Title.append(i[2][9:])"
   ]
  },
  {
   "cell_type": "code",
   "execution_count": 11,
   "metadata": {},
   "outputs": [],
   "source": [
    "Group =[]\n",
    "for i in data_lists[1:]:\n",
    "    try:\n",
    "        Group.append(i[3][9:])\n",
    "    except:\n",
    "        Group.append(None)"
   ]
  },
  {
   "cell_type": "code",
   "execution_count": 12,
   "metadata": {},
   "outputs": [],
   "source": [
    "Salesrank =[]\n",
    "for i in data_lists[1:]:\n",
    "    try:\n",
    "        Salesrank.append(i[4][13:])\n",
    "    except:\n",
    "        Salesrank.append(None)"
   ]
  },
  {
   "cell_type": "code",
   "execution_count": 13,
   "metadata": {},
   "outputs": [],
   "source": [
    "Similar = []\n",
    "for i in data_lists[1:]:\n",
    "    try:\n",
    "        Similar.append(i[5][11:])\n",
    "    except:\n",
    "        Similar.append(None)"
   ]
  },
  {
   "cell_type": "code",
   "execution_count": 14,
   "metadata": {},
   "outputs": [],
   "source": [
    "Categories =[]\n",
    "for i in data_lists[1:]:\n",
    "    try:\n",
    "        Categories.append(i[6][14:])\n",
    "    except:\n",
    "        Categories.append(None)"
   ]
  },
  {
   "cell_type": "code",
   "execution_count": 15,
   "metadata": {},
   "outputs": [],
   "source": [
    "temp =[]\n",
    "Reviews =[]\n",
    "for i in data_lists[1:]:\n",
    "    try:\n",
    "        temp.append(i[7])\n",
    "        for x in i[7:]:\n",
    "            if x[2:9]==b'reviews':\n",
    "                Reviews.append(x)\n",
    "    except:\n",
    "        Reviews.append(None)"
   ]
  },
  {
   "cell_type": "markdown",
   "metadata": {},
   "source": [
    "Now, let's join all the lists into a dataframe, and make sure NaN values are reflected into new df:"
   ]
  },
  {
   "cell_type": "code",
   "execution_count": 16,
   "metadata": {},
   "outputs": [],
   "source": [
    "import pandas as pd\n",
    "columns = ['Id']\n",
    "df = pd.DataFrame(columns=columns)"
   ]
  },
  {
   "cell_type": "code",
   "execution_count": 17,
   "metadata": {},
   "outputs": [],
   "source": [
    "df['Id'] = Id\n",
    "df['Id'] = df['Id'].map(lambda x: str(x)[:-5])\n",
    "df['Id'] = df['Id'].map(lambda x: str(x)[2:])\n",
    "df['Id'] = df['Id'].map(lambda x: int(x))"
   ]
  },
  {
   "cell_type": "code",
   "execution_count": 18,
   "metadata": {},
   "outputs": [],
   "source": [
    "df['ASIN'] = ASIN\n",
    "df['ASIN'] = df['ASIN'].map(lambda x: str(x)[:-5])\n",
    "df['ASIN'] = df['ASIN'].map(lambda x: str(x)[2:])"
   ]
  },
  {
   "cell_type": "code",
   "execution_count": 29,
   "metadata": {},
   "outputs": [],
   "source": [
    "df['Title'] = Title\n",
    "df['Title'] = df['Title'].map(lambda x: str(x)[:-5])\n",
    "df['Title'] = df['Title'].map(lambda x: str(x)[2:])\n",
    "Titles = []\n",
    "for i in df['Title']:\n",
    "    if str(i)=='inued product':\n",
    "        Titles.append('discontinued product')\n",
    "    else:\n",
    "        Titles.append(str(i))\n",
    "df['Title'] = Titles"
   ]
  },
  {
   "cell_type": "code",
   "execution_count": 61,
   "metadata": {},
   "outputs": [],
   "source": [
    "df['Group'] = Group\n",
    "df['Group'] = df['Group'].map(lambda x: str(x)[:-5])\n",
    "df['Group'] = df['Group'].map(lambda x: str(x)[2:])\n",
    "group =[]\n",
    "for i in df['Group']:\n",
    "    if i!= '':\n",
    "        group.append(str(i))\n",
    "    else:\n",
    "        group.append(None)\n",
    "df['Group'] = group"
   ]
  },
  {
   "cell_type": "code",
   "execution_count": 67,
   "metadata": {},
   "outputs": [],
   "source": [
    "df['Salesrank'] = Salesrank\n",
    "df['Salesrank'] = df['Salesrank'].map(lambda x: str(x)[:-5])\n",
    "df['Salesrank'] = df['Salesrank'].map(lambda x: str(x)[2:])\n",
    "salesrank = []\n",
    "for i in df['Salesrank']:\n",
    "    try:\n",
    "        salesrank.append(int(i))\n",
    "    except:\n",
    "        salesrank.append(None)\n",
    "df['Salesrank'] = salesrank"
   ]
  },
  {
   "cell_type": "code",
   "execution_count": 72,
   "metadata": {},
   "outputs": [],
   "source": [
    "df['Similar'] = Similar\n",
    "df['Similar'] = df['Similar'].map(lambda x: str(x)[:-5])\n",
    "df['Similar'] = df['Similar'].map(lambda x: str(x)[2:])\n",
    "similar = []\n",
    "for i in df['Similar']:\n",
    "    if i!='':\n",
    "        similar.append(str(i))\n",
    "    else:\n",
    "        similar.append(None)\n",
    "df['Similar'] = similar        "
   ]
  },
  {
   "cell_type": "code",
   "execution_count": 48,
   "metadata": {},
   "outputs": [],
   "source": [
    "df['Categories'] = Categories\n",
    "df['Categories'] = df['Categories'].map(lambda x: str(x)[:-5])\n",
    "df['Categories'] = df['Categories'].map(lambda x: str(x)[2:])\n",
    "categories = []\n",
    "for i in df['Categories']:\n",
    "    try:\n",
    "        categories.append(int(i))\n",
    "    except:\n",
    "        categories.append(None)\n",
    "df['Categories'] = categories"
   ]
  },
  {
   "cell_type": "code",
   "execution_count": 76,
   "metadata": {},
   "outputs": [],
   "source": [
    "df['Reviews'] = Reviews\n",
    "df['Reviews'] = df['Reviews'].map(lambda x: str(x)[:-5])\n",
    "df['Reviews'] = df['Reviews'].map(lambda x: str(x)[2:])\n",
    "reviews = []\n",
    "for i in df['Reviews']:\n",
    "    if i!='':\n",
    "        reviews.append(str(i))\n",
    "    else:\n",
    "        reviews.append(None)\n",
    "df['Reviews'] = reviews"
   ]
  },
  {
   "cell_type": "code",
   "execution_count": 77,
   "metadata": {},
   "outputs": [
    {
     "data": {
      "text/html": [
       "<div>\n",
       "<style>\n",
       "    .dataframe thead tr:only-child th {\n",
       "        text-align: right;\n",
       "    }\n",
       "\n",
       "    .dataframe thead th {\n",
       "        text-align: left;\n",
       "    }\n",
       "\n",
       "    .dataframe tbody tr th {\n",
       "        vertical-align: top;\n",
       "    }\n",
       "</style>\n",
       "<table border=\"1\" class=\"dataframe\">\n",
       "  <thead>\n",
       "    <tr style=\"text-align: right;\">\n",
       "      <th></th>\n",
       "      <th>Id</th>\n",
       "      <th>ASIN</th>\n",
       "      <th>Title</th>\n",
       "      <th>Group</th>\n",
       "      <th>Salesrank</th>\n",
       "      <th>Similar</th>\n",
       "      <th>Categories</th>\n",
       "      <th>Reviews</th>\n",
       "    </tr>\n",
       "  </thead>\n",
       "  <tbody>\n",
       "    <tr>\n",
       "      <th>0</th>\n",
       "      <td>0</td>\n",
       "      <td>0771044445</td>\n",
       "      <td>discontinued product</td>\n",
       "      <td>None</td>\n",
       "      <td>NaN</td>\n",
       "      <td>None</td>\n",
       "      <td>NaN</td>\n",
       "      <td>None</td>\n",
       "    </tr>\n",
       "    <tr>\n",
       "      <th>1</th>\n",
       "      <td>1</td>\n",
       "      <td>0827229534</td>\n",
       "      <td>Patterns of Preaching: A Sermon Sampler</td>\n",
       "      <td>Book</td>\n",
       "      <td>396585.0</td>\n",
       "      <td>5  0804215715  156101074X  0687023955  0687074...</td>\n",
       "      <td>2.0</td>\n",
       "      <td>reviews: total: 2  downloaded: 2  avg rating: 5</td>\n",
       "    </tr>\n",
       "    <tr>\n",
       "      <th>2</th>\n",
       "      <td>2</td>\n",
       "      <td>0738700797</td>\n",
       "      <td>Candlemas: Feast of Flames</td>\n",
       "      <td>Book</td>\n",
       "      <td>168596.0</td>\n",
       "      <td>5  0738700827  1567184960  1567182836  0738700...</td>\n",
       "      <td>2.0</td>\n",
       "      <td>reviews: total: 12  downloaded: 12  avg rati...</td>\n",
       "    </tr>\n",
       "    <tr>\n",
       "      <th>3</th>\n",
       "      <td>3</td>\n",
       "      <td>0486287785</td>\n",
       "      <td>World War II Allied Fighter Planes Trading Cards</td>\n",
       "      <td>Book</td>\n",
       "      <td>1270652.0</td>\n",
       "      <td>0</td>\n",
       "      <td>1.0</td>\n",
       "      <td>reviews: total: 1  downloaded: 1  avg rating: 5</td>\n",
       "    </tr>\n",
       "    <tr>\n",
       "      <th>4</th>\n",
       "      <td>4</td>\n",
       "      <td>0842328327</td>\n",
       "      <td>Life Application Bible Commentary: 1 and 2 Tim...</td>\n",
       "      <td>Book</td>\n",
       "      <td>631289.0</td>\n",
       "      <td>5  0842328130  0830818138  0842330313  0842328...</td>\n",
       "      <td>5.0</td>\n",
       "      <td>reviews: total: 1  downloaded: 1  avg rating: 4</td>\n",
       "    </tr>\n",
       "  </tbody>\n",
       "</table>\n",
       "</div>"
      ],
      "text/plain": [
       "   Id        ASIN                                              Title Group  \\\n",
       "0   0  0771044445                               discontinued product  None   \n",
       "1   1  0827229534            Patterns of Preaching: A Sermon Sampler  Book   \n",
       "2   2  0738700797                         Candlemas: Feast of Flames  Book   \n",
       "3   3  0486287785   World War II Allied Fighter Planes Trading Cards  Book   \n",
       "4   4  0842328327  Life Application Bible Commentary: 1 and 2 Tim...  Book   \n",
       "\n",
       "   Salesrank                                            Similar  Categories  \\\n",
       "0        NaN                                               None         NaN   \n",
       "1   396585.0  5  0804215715  156101074X  0687023955  0687074...         2.0   \n",
       "2   168596.0  5  0738700827  1567184960  1567182836  0738700...         2.0   \n",
       "3  1270652.0                                                  0         1.0   \n",
       "4   631289.0  5  0842328130  0830818138  0842330313  0842328...         5.0   \n",
       "\n",
       "                                             Reviews  \n",
       "0                                               None  \n",
       "1    reviews: total: 2  downloaded: 2  avg rating: 5  \n",
       "2    reviews: total: 12  downloaded: 12  avg rati...  \n",
       "3    reviews: total: 1  downloaded: 1  avg rating: 5  \n",
       "4    reviews: total: 1  downloaded: 1  avg rating: 4  "
      ]
     },
     "execution_count": 77,
     "metadata": {},
     "output_type": "execute_result"
    }
   ],
   "source": [
    "df.head()"
   ]
  },
  {
   "cell_type": "code",
   "execution_count": 78,
   "metadata": {},
   "outputs": [
    {
     "name": "stdout",
     "output_type": "stream",
     "text": [
      "<class 'pandas.core.frame.DataFrame'>\n",
      "RangeIndex: 548552 entries, 0 to 548551\n",
      "Data columns (total 8 columns):\n",
      "Id            548552 non-null int64\n",
      "ASIN          548552 non-null object\n",
      "Title         548552 non-null object\n",
      "Group         542684 non-null object\n",
      "Salesrank     542684 non-null float64\n",
      "Similar       542684 non-null object\n",
      "Categories    542684 non-null float64\n",
      "Reviews       542684 non-null object\n",
      "dtypes: float64(2), int64(1), object(5)\n",
      "memory usage: 33.5+ MB\n"
     ]
    }
   ],
   "source": [
    "df.info()"
   ]
  },
  {
   "cell_type": "code",
   "execution_count": null,
   "metadata": {},
   "outputs": [],
   "source": []
  },
  {
   "cell_type": "code",
   "execution_count": null,
   "metadata": {},
   "outputs": [],
   "source": []
  },
  {
   "cell_type": "code",
   "execution_count": null,
   "metadata": {
    "collapsed": true
   },
   "outputs": [],
   "source": []
  }
 ],
 "metadata": {
  "kernelspec": {
   "display_name": "Python 3",
   "language": "python",
   "name": "python3"
  }
 },
 "nbformat": 4,
 "nbformat_minor": 2
}
